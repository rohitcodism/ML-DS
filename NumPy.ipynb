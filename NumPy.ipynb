{
 "cells": [
  {
   "cell_type": "code",
   "execution_count": 3,
   "id": "2ed585bc",
   "metadata": {},
   "outputs": [
    {
     "name": "stdout",
     "output_type": "stream",
     "text": [
      "Collecting numpy\n",
      "  Downloading numpy-1.25.1-cp310-cp310-win_amd64.whl (15.0 MB)\n",
      "     ---------------------------------------- 15.0/15.0 MB 1.1 MB/s eta 0:00:00\n",
      "Installing collected packages: numpy\n",
      "Successfully installed numpy-1.25.1\n",
      "Note: you may need to restart the kernel to use updated packages.\n"
     ]
    }
   ],
   "source": [
    "pip install numpy"
   ]
  },
  {
   "cell_type": "code",
   "execution_count": 4,
   "id": "77d0e37b",
   "metadata": {},
   "outputs": [],
   "source": [
    "import numpy as np"
   ]
  },
  {
   "cell_type": "code",
   "execution_count": 5,
   "id": "44d0e415",
   "metadata": {},
   "outputs": [],
   "source": [
    "myList = [1,2,3]"
   ]
  },
  {
   "cell_type": "code",
   "execution_count": 6,
   "id": "28f0c764",
   "metadata": {},
   "outputs": [
    {
     "data": {
      "text/plain": [
       "list"
      ]
     },
     "execution_count": 6,
     "metadata": {},
     "output_type": "execute_result"
    }
   ],
   "source": [
    "type(myList)"
   ]
  },
  {
   "cell_type": "code",
   "execution_count": 7,
   "id": "d41a06b7",
   "metadata": {},
   "outputs": [
    {
     "data": {
      "text/plain": [
       "array([1, 2, 3])"
      ]
     },
     "execution_count": 7,
     "metadata": {},
     "output_type": "execute_result"
    }
   ],
   "source": [
    "np.array(myList)"
   ]
  },
  {
   "cell_type": "code",
   "execution_count": 8,
   "id": "014d482f",
   "metadata": {},
   "outputs": [],
   "source": [
    "myMatrix = [[1,2,4],[5,6,7],[8,9,10],[11,12,13]]"
   ]
  },
  {
   "cell_type": "code",
   "execution_count": 9,
   "id": "dc1a1607",
   "metadata": {},
   "outputs": [],
   "source": [
    "myMat = np.array(myMatrix)"
   ]
  },
  {
   "cell_type": "code",
   "execution_count": 10,
   "id": "fbe870a1",
   "metadata": {},
   "outputs": [
    {
     "data": {
      "text/plain": [
       "array([[ 1,  2,  4],\n",
       "       [ 5,  6,  7],\n",
       "       [ 8,  9, 10],\n",
       "       [11, 12, 13]])"
      ]
     },
     "execution_count": 10,
     "metadata": {},
     "output_type": "execute_result"
    }
   ],
   "source": [
    "myMat"
   ]
  },
  {
   "cell_type": "code",
   "execution_count": 11,
   "id": "616d3c3b",
   "metadata": {},
   "outputs": [
    {
     "data": {
      "text/plain": [
       "array([0., 0., 0., 0., 0.])"
      ]
     },
     "execution_count": 11,
     "metadata": {},
     "output_type": "execute_result"
    }
   ],
   "source": [
    "np.zeros(5)"
   ]
  },
  {
   "cell_type": "code",
   "execution_count": 12,
   "id": "9aa5748d",
   "metadata": {},
   "outputs": [
    {
     "data": {
      "text/plain": [
       "array([[0., 0., 0., 0., 0., 0.],\n",
       "       [0., 0., 0., 0., 0., 0.],\n",
       "       [0., 0., 0., 0., 0., 0.],\n",
       "       [0., 0., 0., 0., 0., 0.],\n",
       "       [0., 0., 0., 0., 0., 0.]])"
      ]
     },
     "execution_count": 12,
     "metadata": {},
     "output_type": "execute_result"
    }
   ],
   "source": [
    "np.zeros((5,6))"
   ]
  },
  {
   "cell_type": "code",
   "execution_count": 13,
   "id": "3ce01717",
   "metadata": {},
   "outputs": [
    {
     "data": {
      "text/plain": [
       "array([[1., 1., 1.],\n",
       "       [1., 1., 1.],\n",
       "       [1., 1., 1.],\n",
       "       [1., 1., 1.]])"
      ]
     },
     "execution_count": 13,
     "metadata": {},
     "output_type": "execute_result"
    }
   ],
   "source": [
    "np.ones((4,3))"
   ]
  },
  {
   "cell_type": "code",
   "execution_count": 14,
   "id": "f0a8dd3f",
   "metadata": {
    "ExecuteTime": {
     "end_time": "2023-07-19T14:38:45.218990Z",
     "start_time": "2023-07-19T14:38:45.213984Z"
    }
   },
   "outputs": [
    {
     "data": {
      "text/plain": [
       "array([ 0.,  5., 10.])"
      ]
     },
     "execution_count": 14,
     "metadata": {},
     "output_type": "execute_result"
    }
   ],
   "source": [
    "np.linspace(0,10,3)"
   ]
  },
  {
   "cell_type": "code",
   "execution_count": 20,
   "id": "f61d1b70",
   "metadata": {
    "ExecuteTime": {
     "end_time": "2023-07-19T14:45:23.692532Z",
     "start_time": "2023-07-19T14:45:23.682017Z"
    }
   },
   "outputs": [
    {
     "data": {
      "text/plain": [
       "array([[1., 0., 0., 0., 0.],\n",
       "       [0., 1., 0., 0., 0.],\n",
       "       [0., 0., 1., 0., 0.],\n",
       "       [0., 0., 0., 1., 0.],\n",
       "       [0., 0., 0., 0., 1.]])"
      ]
     },
     "execution_count": 20,
     "metadata": {},
     "output_type": "execute_result"
    }
   ],
   "source": [
    "np.eye(5)"
   ]
  },
  {
   "cell_type": "code",
   "execution_count": 9,
   "id": "101d4d1c",
   "metadata": {
    "ExecuteTime": {
     "end_time": "2023-07-19T14:49:22.896344Z",
     "start_time": "2023-07-19T14:49:22.711924Z"
    }
   },
   "outputs": [
    {
     "data": {
      "text/plain": [
       "array([[0.9037858 , 0.52048004, 0.1422917 ],\n",
       "       [0.71632607, 0.86295692, 0.24311894],\n",
       "       [0.60864798, 0.54409364, 0.06057518]])"
      ]
     },
     "execution_count": 9,
     "metadata": {},
     "output_type": "execute_result"
    }
   ],
   "source": [
    "np.random.rand(3,3)"
   ]
  },
  {
   "cell_type": "code",
   "execution_count": 22,
   "id": "b786a639",
   "metadata": {
    "ExecuteTime": {
     "end_time": "2023-07-19T14:49:52.042593Z",
     "start_time": "2023-07-19T14:49:52.023014Z"
    }
   },
   "outputs": [
    {
     "data": {
      "text/plain": [
       "array([[0.80097041, 0.823819  , 0.90549365],\n",
       "       [0.36063396, 0.71198299, 0.24917872],\n",
       "       [0.19578675, 0.05924212, 0.47277029]])"
      ]
     },
     "execution_count": 22,
     "metadata": {},
     "output_type": "execute_result"
    }
   ],
   "source": [
    "np.random.rand(3,3)"
   ]
  },
  {
   "cell_type": "code",
   "execution_count": 23,
   "id": "531a1c62",
   "metadata": {
    "ExecuteTime": {
     "end_time": "2023-07-19T14:51:33.870042Z",
     "start_time": "2023-07-19T14:51:33.859491Z"
    }
   },
   "outputs": [
    {
     "data": {
      "text/plain": [
       "0.8729593628123486"
      ]
     },
     "execution_count": 23,
     "metadata": {},
     "output_type": "execute_result"
    }
   ],
   "source": [
    "np.random.rand()"
   ]
  },
  {
   "cell_type": "code",
   "execution_count": 24,
   "id": "b443a2ca",
   "metadata": {
    "ExecuteTime": {
     "end_time": "2023-07-19T14:52:08.551457Z",
     "start_time": "2023-07-19T14:52:08.545455Z"
    }
   },
   "outputs": [
    {
     "data": {
      "text/plain": [
       "array([0.05644253])"
      ]
     },
     "execution_count": 24,
     "metadata": {},
     "output_type": "execute_result"
    }
   ],
   "source": [
    "np.random.rand(1)"
   ]
  },
  {
   "cell_type": "code",
   "execution_count": 25,
   "id": "b8c13787",
   "metadata": {
    "ExecuteTime": {
     "end_time": "2023-07-19T14:57:20.103845Z",
     "start_time": "2023-07-19T14:57:20.086299Z"
    }
   },
   "outputs": [
    {
     "data": {
      "text/plain": [
       "array([[-0.05090869, -1.41718407, -0.3867676 ],\n",
       "       [-1.26456278,  0.45265238, -1.20408737],\n",
       "       [ 0.77001655,  0.29015842, -0.08762921]])"
      ]
     },
     "execution_count": 25,
     "metadata": {},
     "output_type": "execute_result"
    }
   ],
   "source": [
    "np.random.randn(3,3)"
   ]
  },
  {
   "cell_type": "code",
   "execution_count": 26,
   "id": "7fa2e6ae",
   "metadata": {
    "ExecuteTime": {
     "end_time": "2023-07-19T14:57:58.384468Z",
     "start_time": "2023-07-19T14:57:58.364472Z"
    }
   },
   "outputs": [
    {
     "data": {
      "text/plain": [
       "-0.2610720603543976"
      ]
     },
     "execution_count": 26,
     "metadata": {},
     "output_type": "execute_result"
    }
   ],
   "source": [
    "np.random.randn()"
   ]
  },
  {
   "cell_type": "code",
   "execution_count": 27,
   "id": "1a0088ab",
   "metadata": {
    "ExecuteTime": {
     "end_time": "2023-07-19T14:58:08.912141Z",
     "start_time": "2023-07-19T14:58:08.892145Z"
    }
   },
   "outputs": [
    {
     "data": {
      "text/plain": [
       "array([-0.55602885,  0.63030643])"
      ]
     },
     "execution_count": 27,
     "metadata": {},
     "output_type": "execute_result"
    }
   ],
   "source": [
    "np.random.randn(2)"
   ]
  },
  {
   "cell_type": "code",
   "execution_count": 10,
   "id": "ff26e9b8",
   "metadata": {
    "ExecuteTime": {
     "end_time": "2023-07-19T14:58:34.457563Z",
     "start_time": "2023-07-19T14:58:34.435546Z"
    }
   },
   "outputs": [
    {
     "data": {
      "text/plain": [
       "array([[-0.97601676, -0.16763179, -1.23093159,  2.11239184,  0.54121282],\n",
       "       [ 0.87118241, -0.62942493,  0.50332064, -0.55041079,  0.09704916],\n",
       "       [ 0.44488153,  0.31543121,  0.46032511, -0.51031029, -0.182098  ],\n",
       "       [ 0.57737826, -0.02864992,  0.66426856,  1.10574788,  1.29971672],\n",
       "       [-1.23451087, -0.18236857, -0.15508199,  0.23444102, -0.28105916]])"
      ]
     },
     "execution_count": 10,
     "metadata": {},
     "output_type": "execute_result"
    }
   ],
   "source": [
    "np.random.randn(5,5)"
   ]
  },
  {
   "cell_type": "code",
   "execution_count": 29,
   "id": "d6581048",
   "metadata": {
    "ExecuteTime": {
     "end_time": "2023-07-19T15:00:43.178224Z",
     "start_time": "2023-07-19T15:00:43.169214Z"
    }
   },
   "outputs": [
    {
     "data": {
      "text/plain": [
       "<function RandomState.randint>"
      ]
     },
     "execution_count": 29,
     "metadata": {},
     "output_type": "execute_result"
    }
   ],
   "source": [
    "np.random.randint"
   ]
  },
  {
   "cell_type": "code",
   "execution_count": 13,
   "id": "fc161ae5",
   "metadata": {
    "ExecuteTime": {
     "end_time": "2023-07-19T15:01:02.924785Z",
     "start_time": "2023-07-19T15:01:02.899245Z"
    }
   },
   "outputs": [
    {
     "data": {
      "text/plain": [
       "61"
      ]
     },
     "execution_count": 13,
     "metadata": {},
     "output_type": "execute_result"
    }
   ],
   "source": [
    "np.random.randint(0,100)"
   ]
  },
  {
   "cell_type": "code",
   "execution_count": 31,
   "id": "7d83a1d7",
   "metadata": {
    "ExecuteTime": {
     "end_time": "2023-07-19T15:04:48.652646Z",
     "start_time": "2023-07-19T15:04:48.645654Z"
    }
   },
   "outputs": [
    {
     "data": {
      "text/plain": [
       "array([[ 2, 86, 53, 22, 52],\n",
       "       [75, 30, 74, 59, 51],\n",
       "       [49, 67,  0, 88, 90],\n",
       "       [72, 29, 48, 27, 36],\n",
       "       [77, 23, 77, 39, 95]])"
      ]
     },
     "execution_count": 31,
     "metadata": {},
     "output_type": "execute_result"
    }
   ],
   "source": [
    "np.random.randint(0,100,size=(5,5))"
   ]
  },
  {
   "cell_type": "code",
   "execution_count": 32,
   "id": "eacd77a5",
   "metadata": {
    "ExecuteTime": {
     "end_time": "2023-07-19T17:04:59.264670Z",
     "start_time": "2023-07-19T17:04:59.255691Z"
    }
   },
   "outputs": [
    {
     "data": {
      "text/plain": [
       "array([0.37454012, 0.95071431, 0.73199394, 0.59865848])"
      ]
     },
     "execution_count": 32,
     "metadata": {},
     "output_type": "execute_result"
    }
   ],
   "source": [
    "np.random.seed(42)\n",
    "np.random.rand(4)"
   ]
  },
  {
   "cell_type": "code",
   "execution_count": 33,
   "id": "3b63bfa4",
   "metadata": {
    "ExecuteTime": {
     "end_time": "2023-07-19T17:09:38.384606Z",
     "start_time": "2023-07-19T17:09:38.369590Z"
    }
   },
   "outputs": [
    {
     "data": {
      "text/plain": [
       "array([0.15601864, 0.15599452, 0.05808361, 0.86617615])"
      ]
     },
     "execution_count": 33,
     "metadata": {},
     "output_type": "execute_result"
    }
   ],
   "source": [
    "np.random.rand(4)"
   ]
  },
  {
   "cell_type": "code",
   "execution_count": 34,
   "id": "44715c23",
   "metadata": {
    "ExecuteTime": {
     "end_time": "2023-07-19T17:10:03.663194Z",
     "start_time": "2023-07-19T17:10:03.654200Z"
    }
   },
   "outputs": [
    {
     "data": {
      "text/plain": [
       "array([0.37454012, 0.95071431, 0.73199394, 0.59865848])"
      ]
     },
     "execution_count": 34,
     "metadata": {},
     "output_type": "execute_result"
    }
   ],
   "source": [
    "np.random.seed(42)\n",
    "np.random.rand(4)"
   ]
  },
  {
   "cell_type": "code",
   "execution_count": 35,
   "id": "f5cd8626",
   "metadata": {
    "ExecuteTime": {
     "end_time": "2023-07-19T17:11:08.001178Z",
     "start_time": "2023-07-19T17:11:07.992179Z"
    }
   },
   "outputs": [
    {
     "data": {
      "text/plain": [
       "array([[-0.71239066,  0.75376638, -0.04450308,  0.45181234,  1.34510171],\n",
       "       [ 0.53233789,  1.3501879 ,  0.86121137,  1.47868574, -1.04537713],\n",
       "       [-0.78898902, -1.26160595,  0.56284679, -0.24332625,  0.9137407 ],\n",
       "       [ 0.31735092,  0.12730328,  2.15038297,  0.60628866, -0.02677165],\n",
       "       [-0.98416078,  1.19070527,  0.95283061, -1.08718159, -0.14521133]])"
      ]
     },
     "execution_count": 35,
     "metadata": {},
     "output_type": "execute_result"
    }
   ],
   "source": [
    "np.random.seed(13)\n",
    "np.random.randn(5,5)"
   ]
  },
  {
   "cell_type": "code",
   "execution_count": 36,
   "id": "86ee36c1",
   "metadata": {
    "ExecuteTime": {
     "end_time": "2023-07-19T17:11:36.530402Z",
     "start_time": "2023-07-19T17:11:36.512399Z"
    }
   },
   "outputs": [
    {
     "data": {
      "text/plain": [
       "array([[-0.71239066,  0.75376638, -0.04450308,  0.45181234,  1.34510171],\n",
       "       [ 0.53233789,  1.3501879 ,  0.86121137,  1.47868574, -1.04537713],\n",
       "       [-0.78898902, -1.26160595,  0.56284679, -0.24332625,  0.9137407 ],\n",
       "       [ 0.31735092,  0.12730328,  2.15038297,  0.60628866, -0.02677165],\n",
       "       [-0.98416078,  1.19070527,  0.95283061, -1.08718159, -0.14521133]])"
      ]
     },
     "execution_count": 36,
     "metadata": {},
     "output_type": "execute_result"
    }
   ],
   "source": [
    "np.random.seed(13)\n",
    "np.random.randn(5,5)"
   ]
  },
  {
   "cell_type": "code",
   "execution_count": 15,
   "id": "4efd9280",
   "metadata": {
    "ExecuteTime": {
     "end_time": "2023-07-19T17:13:32.375178Z",
     "start_time": "2023-07-19T17:13:32.350179Z"
    }
   },
   "outputs": [
    {
     "data": {
      "text/plain": [
       "array([ 0, 10])"
      ]
     },
     "execution_count": 15,
     "metadata": {},
     "output_type": "execute_result"
    }
   ],
   "source": [
    "np.array([0,10])"
   ]
  },
  {
   "cell_type": "code",
   "execution_count": 16,
   "id": "4991fea8",
   "metadata": {
    "ExecuteTime": {
     "end_time": "2023-07-19T17:14:01.318857Z",
     "start_time": "2023-07-19T17:14:01.302880Z"
    }
   },
   "outputs": [
    {
     "data": {
      "text/plain": [
       "array([0, 3])"
      ]
     },
     "execution_count": 16,
     "metadata": {},
     "output_type": "execute_result"
    }
   ],
   "source": [
    "np.array([0,3])"
   ]
  },
  {
   "cell_type": "code",
   "execution_count": 39,
   "id": "a05d5f19",
   "metadata": {
    "ExecuteTime": {
     "end_time": "2023-07-19T17:14:40.982823Z",
     "start_time": "2023-07-19T17:14:40.974798Z"
    }
   },
   "outputs": [
    {
     "data": {
      "text/plain": [
       "array([ 0,  3,  6,  9, 12, 15, 18, 21])"
      ]
     },
     "execution_count": 39,
     "metadata": {},
     "output_type": "execute_result"
    }
   ],
   "source": [
    "np.arange(0,24, 3)"
   ]
  },
  {
   "cell_type": "code",
   "execution_count": 41,
   "id": "b1c70cde",
   "metadata": {
    "ExecuteTime": {
     "end_time": "2023-07-19T17:15:14.739991Z",
     "start_time": "2023-07-19T17:15:14.729982Z"
    }
   },
   "outputs": [
    {
     "data": {
      "text/plain": [
       "array([ 0. ,  3.2,  6.4,  9.6, 12.8, 16. , 19.2, 22.4])"
      ]
     },
     "execution_count": 41,
     "metadata": {},
     "output_type": "execute_result"
    }
   ],
   "source": [
    "np.arange(0,24,3.2,float)"
   ]
  },
  {
   "cell_type": "code",
   "execution_count": 42,
   "id": "d77d81eb",
   "metadata": {
    "ExecuteTime": {
     "end_time": "2023-07-19T17:15:37.296399Z",
     "start_time": "2023-07-19T17:15:37.275402Z"
    }
   },
   "outputs": [
    {
     "data": {
      "text/plain": [
       "array([ 0.,  5., 10.])"
      ]
     },
     "execution_count": 42,
     "metadata": {},
     "output_type": "execute_result"
    }
   ],
   "source": [
    "np.linspace(0,10,3)"
   ]
  },
  {
   "cell_type": "code",
   "execution_count": 43,
   "id": "dc0e577f",
   "metadata": {
    "ExecuteTime": {
     "end_time": "2023-07-19T17:17:56.840678Z",
     "start_time": "2023-07-19T17:17:56.830143Z"
    }
   },
   "outputs": [
    {
     "data": {
      "text/plain": [
       "array([ 0,  5, 10, 15, 20])"
      ]
     },
     "execution_count": 43,
     "metadata": {},
     "output_type": "execute_result"
    }
   ],
   "source": [
    "np.arange(0,25,5)"
   ]
  },
  {
   "cell_type": "code",
   "execution_count": 44,
   "id": "452c8fe6",
   "metadata": {
    "ExecuteTime": {
     "end_time": "2023-07-19T17:19:03.649698Z",
     "start_time": "2023-07-19T17:19:03.630691Z"
    }
   },
   "outputs": [
    {
     "data": {
      "text/plain": [
       "array([ 0,  1,  2,  3,  4,  5,  6,  7,  8,  9, 10, 11, 12, 13, 14, 15, 16,\n",
       "       17, 18, 19, 20, 21, 22, 23, 24])"
      ]
     },
     "execution_count": 44,
     "metadata": {},
     "output_type": "execute_result"
    }
   ],
   "source": [
    "np.random.seed(23)\n",
    "np.arange(0,25)"
   ]
  },
  {
   "cell_type": "code",
   "execution_count": 45,
   "id": "f51603d1",
   "metadata": {
    "ExecuteTime": {
     "end_time": "2023-07-19T17:19:15.192589Z",
     "start_time": "2023-07-19T17:19:15.186603Z"
    }
   },
   "outputs": [
    {
     "data": {
      "text/plain": [
       "array([ 0,  1,  2,  3,  4,  5,  6,  7,  8,  9, 10, 11, 12, 13, 14, 15, 16,\n",
       "       17, 18, 19, 20, 21, 22, 23, 24])"
      ]
     },
     "execution_count": 45,
     "metadata": {},
     "output_type": "execute_result"
    }
   ],
   "source": [
    "np.arange(0,25)"
   ]
  },
  {
   "cell_type": "code",
   "execution_count": 18,
   "id": "883de5ad",
   "metadata": {
    "ExecuteTime": {
     "end_time": "2023-07-19T17:19:36.816685Z",
     "start_time": "2023-07-19T17:19:36.808689Z"
    }
   },
   "outputs": [],
   "source": [
    "arr = np.arange(0,25)"
   ]
  },
  {
   "cell_type": "code",
   "execution_count": 47,
   "id": "5df400c5",
   "metadata": {
    "ExecuteTime": {
     "end_time": "2023-07-19T17:19:40.858256Z",
     "start_time": "2023-07-19T17:19:40.851256Z"
    }
   },
   "outputs": [
    {
     "data": {
      "text/plain": [
       "array([ 0,  1,  2,  3,  4,  5,  6,  7,  8,  9, 10, 11, 12, 13, 14, 15, 16,\n",
       "       17, 18, 19, 20, 21, 22, 23, 24])"
      ]
     },
     "execution_count": 47,
     "metadata": {},
     "output_type": "execute_result"
    }
   ],
   "source": [
    "arr"
   ]
  },
  {
   "cell_type": "code",
   "execution_count": 19,
   "id": "cce7a5d2",
   "metadata": {
    "ExecuteTime": {
     "end_time": "2023-07-19T17:21:15.748298Z",
     "start_time": "2023-07-19T17:21:15.734741Z"
    }
   },
   "outputs": [
    {
     "data": {
      "text/plain": [
       "array([[ 0,  1,  2,  3,  4],\n",
       "       [ 5,  6,  7,  8,  9],\n",
       "       [10, 11, 12, 13, 14],\n",
       "       [15, 16, 17, 18, 19],\n",
       "       [20, 21, 22, 23, 24]])"
      ]
     },
     "execution_count": 19,
     "metadata": {},
     "output_type": "execute_result"
    }
   ],
   "source": [
    "arr.reshape(5,5)"
   ]
  },
  {
   "cell_type": "code",
   "execution_count": 20,
   "id": "4b130e5b",
   "metadata": {
    "ExecuteTime": {
     "end_time": "2023-07-19T17:21:27.854813Z",
     "start_time": "2023-07-19T17:21:27.835683Z"
    }
   },
   "outputs": [
    {
     "ename": "ValueError",
     "evalue": "cannot reshape array of size 25 into shape (6,6)",
     "output_type": "error",
     "traceback": [
      "\u001b[1;31m---------------------------------------------------------------------------\u001b[0m",
      "\u001b[1;31mValueError\u001b[0m                                Traceback (most recent call last)",
      "Cell \u001b[1;32mIn[20], line 1\u001b[0m\n\u001b[1;32m----> 1\u001b[0m arr\u001b[39m.\u001b[39;49mreshape(\u001b[39m6\u001b[39;49m,\u001b[39m6\u001b[39;49m)\n",
      "\u001b[1;31mValueError\u001b[0m: cannot reshape array of size 25 into shape (6,6)"
     ]
    }
   ],
   "source": [
    "arr.reshape(6,6)"
   ]
  },
  {
   "cell_type": "code",
   "execution_count": 50,
   "id": "0c72d646",
   "metadata": {
    "ExecuteTime": {
     "end_time": "2023-07-19T17:22:03.165364Z",
     "start_time": "2023-07-19T17:22:03.158364Z"
    }
   },
   "outputs": [
    {
     "data": {
      "text/plain": [
       "array([[ 0,  1,  2,  3,  4],\n",
       "       [ 5,  6,  7,  8,  9],\n",
       "       [10, 11, 12, 13, 14],\n",
       "       [15, 16, 17, 18, 19],\n",
       "       [20, 21, 22, 23, 24]])"
      ]
     },
     "execution_count": 50,
     "metadata": {},
     "output_type": "execute_result"
    }
   ],
   "source": [
    "arr.reshape(5,5)"
   ]
  },
  {
   "cell_type": "code",
   "execution_count": 53,
   "id": "1300210d",
   "metadata": {
    "ExecuteTime": {
     "end_time": "2023-07-19T17:23:59.005077Z",
     "start_time": "2023-07-19T17:23:58.990075Z"
    }
   },
   "outputs": [],
   "source": [
    "ranarr = np.random.randint(0,201,20)"
   ]
  },
  {
   "cell_type": "code",
   "execution_count": 54,
   "id": "41b91628",
   "metadata": {
    "ExecuteTime": {
     "end_time": "2023-07-19T17:24:00.956479Z",
     "start_time": "2023-07-19T17:24:00.943479Z"
    }
   },
   "outputs": [
    {
     "data": {
      "text/plain": [
       "array([ 39,  90, 153, 179,   6, 123, 173,  12,  49, 194, 197, 192,  12,\n",
       "        21,  48,  41,  79,  90, 190,  57])"
      ]
     },
     "execution_count": 54,
     "metadata": {},
     "output_type": "execute_result"
    }
   ],
   "source": [
    "ranarr"
   ]
  },
  {
   "cell_type": "code",
   "execution_count": 55,
   "id": "c000a89e",
   "metadata": {
    "ExecuteTime": {
     "end_time": "2023-07-19T17:24:15.234204Z",
     "start_time": "2023-07-19T17:24:15.223689Z"
    }
   },
   "outputs": [
    {
     "data": {
      "text/plain": [
       "197"
      ]
     },
     "execution_count": 55,
     "metadata": {},
     "output_type": "execute_result"
    }
   ],
   "source": [
    "ranarr.max()"
   ]
  },
  {
   "cell_type": "code",
   "execution_count": 56,
   "id": "83bda69f",
   "metadata": {
    "ExecuteTime": {
     "end_time": "2023-07-19T17:24:27.788755Z",
     "start_time": "2023-07-19T17:24:27.778758Z"
    }
   },
   "outputs": [
    {
     "data": {
      "text/plain": [
       "10"
      ]
     },
     "execution_count": 56,
     "metadata": {},
     "output_type": "execute_result"
    }
   ],
   "source": [
    "ranarr.argmax()"
   ]
  },
  {
   "cell_type": "code",
   "execution_count": 57,
   "id": "3aa1580e",
   "metadata": {
    "ExecuteTime": {
     "end_time": "2023-07-19T17:24:45.507896Z",
     "start_time": "2023-07-19T17:24:45.488884Z"
    }
   },
   "outputs": [
    {
     "data": {
      "text/plain": [
       "4"
      ]
     },
     "execution_count": 57,
     "metadata": {},
     "output_type": "execute_result"
    }
   ],
   "source": [
    "ranarr.min()\n",
    "ranarr.argmin()"
   ]
  },
  {
   "cell_type": "code",
   "execution_count": 58,
   "id": "5ca4ea55",
   "metadata": {
    "ExecuteTime": {
     "end_time": "2023-07-19T17:25:36.891602Z",
     "start_time": "2023-07-19T17:25:36.875962Z"
    }
   },
   "outputs": [
    {
     "ename": "TypeError",
     "evalue": "'numpy.dtype[int32]' object is not callable",
     "output_type": "error",
     "traceback": [
      "\u001b[1;31m---------------------------------------------------------------------------\u001b[0m",
      "\u001b[1;31mTypeError\u001b[0m                                 Traceback (most recent call last)",
      "\u001b[1;32m~\\AppData\\Local\\Temp\\ipykernel_4636\\2406519149.py\u001b[0m in \u001b[0;36m<module>\u001b[1;34m\u001b[0m\n\u001b[1;32m----> 1\u001b[1;33m \u001b[0mranarr\u001b[0m\u001b[1;33m.\u001b[0m\u001b[0mdtype\u001b[0m\u001b[1;33m(\u001b[0m\u001b[1;33m)\u001b[0m\u001b[1;33m\u001b[0m\u001b[1;33m\u001b[0m\u001b[0m\n\u001b[0m",
      "\u001b[1;31mTypeError\u001b[0m: 'numpy.dtype[int32]' object is not callable"
     ]
    }
   ],
   "source": [
    "ranarr.dtype()"
   ]
  },
  {
   "cell_type": "code",
   "execution_count": 1,
   "id": "6a25d9bc",
   "metadata": {
    "ExecuteTime": {
     "end_time": "2023-07-20T00:10:15.243298Z",
     "start_time": "2023-07-20T00:10:15.063767Z"
    }
   },
   "outputs": [
    {
     "ename": "NameError",
     "evalue": "name 'ranarr' is not defined",
     "output_type": "error",
     "traceback": [
      "\u001b[1;31m---------------------------------------------------------------------------\u001b[0m",
      "\u001b[1;31mNameError\u001b[0m                                 Traceback (most recent call last)",
      "\u001b[1;32m~\\AppData\\Local\\Temp\\ipykernel_12972\\1320115462.py\u001b[0m in \u001b[0;36m<module>\u001b[1;34m\u001b[0m\n\u001b[1;32m----> 1\u001b[1;33m \u001b[0mranarr\u001b[0m\u001b[1;33m.\u001b[0m\u001b[0mdtype\u001b[0m\u001b[1;33m\u001b[0m\u001b[1;33m\u001b[0m\u001b[0m\n\u001b[0m",
      "\u001b[1;31mNameError\u001b[0m: name 'ranarr' is not defined"
     ]
    }
   ],
   "source": [
    "ranarr.dtype"
   ]
  },
  {
   "cell_type": "code",
   "execution_count": 2,
   "id": "205f161e",
   "metadata": {
    "ExecuteTime": {
     "end_time": "2023-07-20T00:11:51.378686Z",
     "start_time": "2023-07-20T00:11:51.258456Z"
    }
   },
   "outputs": [],
   "source": [
    "import numpy as np"
   ]
  },
  {
   "cell_type": "code",
   "execution_count": 3,
   "id": "40878509",
   "metadata": {
    "ExecuteTime": {
     "end_time": "2023-07-20T00:12:26.316416Z",
     "start_time": "2023-07-20T00:12:26.302883Z"
    }
   },
   "outputs": [],
   "source": [
    "ranarr = np.random.rand(0,25,4)"
   ]
  },
  {
   "cell_type": "code",
   "execution_count": 4,
   "id": "24bbc6fa",
   "metadata": {
    "ExecuteTime": {
     "end_time": "2023-07-20T00:12:31.545344Z",
     "start_time": "2023-07-20T00:12:31.526349Z"
    }
   },
   "outputs": [
    {
     "data": {
      "text/plain": [
       "array([], shape=(0, 25, 4), dtype=float64)"
      ]
     },
     "execution_count": 4,
     "metadata": {},
     "output_type": "execute_result"
    }
   ],
   "source": [
    "ranarr"
   ]
  },
  {
   "cell_type": "code",
   "execution_count": 5,
   "id": "6cbaa685",
   "metadata": {
    "ExecuteTime": {
     "end_time": "2023-07-20T00:13:21.110540Z",
     "start_time": "2023-07-20T00:13:21.106537Z"
    }
   },
   "outputs": [],
   "source": [
    "ranarr = np.random.rand(3,3)"
   ]
  },
  {
   "cell_type": "code",
   "execution_count": 6,
   "id": "1d4f64e8",
   "metadata": {
    "ExecuteTime": {
     "end_time": "2023-07-20T00:13:24.932599Z",
     "start_time": "2023-07-20T00:13:24.920580Z"
    }
   },
   "outputs": [
    {
     "data": {
      "text/plain": [
       "array([[0.42608822, 0.17993775, 0.58252145],\n",
       "       [0.37565727, 0.52439461, 0.29110959],\n",
       "       [0.1598532 , 0.15997917, 0.57657185]])"
      ]
     },
     "execution_count": 6,
     "metadata": {},
     "output_type": "execute_result"
    }
   ],
   "source": [
    "ranarr\n"
   ]
  },
  {
   "cell_type": "code",
   "execution_count": 7,
   "id": "9ed281cf",
   "metadata": {
    "ExecuteTime": {
     "end_time": "2023-07-20T00:13:43.830204Z",
     "start_time": "2023-07-20T00:13:43.822194Z"
    }
   },
   "outputs": [
    {
     "data": {
      "text/plain": [
       "dtype('float64')"
      ]
     },
     "execution_count": 7,
     "metadata": {},
     "output_type": "execute_result"
    }
   ],
   "source": [
    "ranarr.dtype"
   ]
  },
  {
   "cell_type": "code",
   "execution_count": 8,
   "id": "8a9f59e9",
   "metadata": {
    "ExecuteTime": {
     "end_time": "2023-07-20T00:14:23.933531Z",
     "start_time": "2023-07-20T00:14:23.922530Z"
    }
   },
   "outputs": [],
   "source": [
    "ranarr = np.random.randint(0,25,(3,3))"
   ]
  },
  {
   "cell_type": "code",
   "execution_count": 9,
   "id": "fc857a2a",
   "metadata": {
    "ExecuteTime": {
     "end_time": "2023-07-20T00:14:27.435009Z",
     "start_time": "2023-07-20T00:14:27.419466Z"
    }
   },
   "outputs": [
    {
     "data": {
      "text/plain": [
       "array([[20,  9,  4],\n",
       "       [21, 18,  1],\n",
       "       [16, 11,  9]])"
      ]
     },
     "execution_count": 9,
     "metadata": {},
     "output_type": "execute_result"
    }
   ],
   "source": [
    "ranarr"
   ]
  },
  {
   "cell_type": "code",
   "execution_count": 10,
   "id": "8e9bd38d",
   "metadata": {
    "ExecuteTime": {
     "end_time": "2023-07-20T00:14:34.181814Z",
     "start_time": "2023-07-20T00:14:34.163801Z"
    }
   },
   "outputs": [
    {
     "data": {
      "text/plain": [
       "dtype('int32')"
      ]
     },
     "execution_count": 10,
     "metadata": {},
     "output_type": "execute_result"
    }
   ],
   "source": [
    "ranarr.dtype"
   ]
  },
  {
   "cell_type": "code",
   "execution_count": 11,
   "id": "030948f7",
   "metadata": {
    "ExecuteTime": {
     "end_time": "2023-07-20T00:15:16.632312Z",
     "start_time": "2023-07-20T00:15:16.592773Z"
    }
   },
   "outputs": [
    {
     "ename": "NameError",
     "evalue": "name 'arr' is not defined",
     "output_type": "error",
     "traceback": [
      "\u001b[1;31m---------------------------------------------------------------------------\u001b[0m",
      "\u001b[1;31mNameError\u001b[0m                                 Traceback (most recent call last)",
      "\u001b[1;32m~\\AppData\\Local\\Temp\\ipykernel_12972\\3418240484.py\u001b[0m in \u001b[0;36m<module>\u001b[1;34m\u001b[0m\n\u001b[1;32m----> 1\u001b[1;33m \u001b[0marr\u001b[0m\u001b[1;33m\u001b[0m\u001b[1;33m\u001b[0m\u001b[0m\n\u001b[0m",
      "\u001b[1;31mNameError\u001b[0m: name 'arr' is not defined"
     ]
    }
   ],
   "source": [
    "arr"
   ]
  },
  {
   "cell_type": "code",
   "execution_count": 12,
   "id": "3af0ea16",
   "metadata": {
    "ExecuteTime": {
     "end_time": "2023-07-20T00:15:30.177588Z",
     "start_time": "2023-07-20T00:15:30.161083Z"
    }
   },
   "outputs": [
    {
     "data": {
      "text/plain": [
       "(3, 3)"
      ]
     },
     "execution_count": 12,
     "metadata": {},
     "output_type": "execute_result"
    }
   ],
   "source": [
    "ranarr.shape"
   ]
  },
  {
   "cell_type": "code",
   "execution_count": 13,
   "id": "f60fb6f9",
   "metadata": {
    "ExecuteTime": {
     "end_time": "2023-07-20T00:15:51.438062Z",
     "start_time": "2023-07-20T00:15:51.417491Z"
    }
   },
   "outputs": [
    {
     "ename": "ValueError",
     "evalue": "cannot reshape array of size 9 into shape (3,4)",
     "output_type": "error",
     "traceback": [
      "\u001b[1;31m---------------------------------------------------------------------------\u001b[0m",
      "\u001b[1;31mValueError\u001b[0m                                Traceback (most recent call last)",
      "\u001b[1;32m~\\AppData\\Local\\Temp\\ipykernel_12972\\2767142958.py\u001b[0m in \u001b[0;36m<module>\u001b[1;34m\u001b[0m\n\u001b[1;32m----> 1\u001b[1;33m \u001b[0mranarr\u001b[0m\u001b[1;33m.\u001b[0m\u001b[0mreshape\u001b[0m\u001b[1;33m(\u001b[0m\u001b[1;36m3\u001b[0m\u001b[1;33m,\u001b[0m\u001b[1;36m4\u001b[0m\u001b[1;33m)\u001b[0m\u001b[1;33m\u001b[0m\u001b[1;33m\u001b[0m\u001b[0m\n\u001b[0m",
      "\u001b[1;31mValueError\u001b[0m: cannot reshape array of size 9 into shape (3,4)"
     ]
    }
   ],
   "source": [
    "ranarr.reshape(3,4)"
   ]
  },
  {
   "cell_type": "code",
   "execution_count": 14,
   "id": "d01a4094",
   "metadata": {
    "ExecuteTime": {
     "end_time": "2023-07-20T00:16:16.113856Z",
     "start_time": "2023-07-20T00:16:16.096641Z"
    }
   },
   "outputs": [
    {
     "data": {
      "text/plain": [
       "array([20,  9,  4, 21, 18,  1, 16, 11,  9])"
      ]
     },
     "execution_count": 14,
     "metadata": {},
     "output_type": "execute_result"
    }
   ],
   "source": [
    "ranarr.reshape(9)"
   ]
  },
  {
   "cell_type": "code",
   "execution_count": 15,
   "id": "df1772bc",
   "metadata": {
    "ExecuteTime": {
     "end_time": "2023-07-20T00:17:26.524049Z",
     "start_time": "2023-07-20T00:17:26.514046Z"
    }
   },
   "outputs": [
    {
     "data": {
      "text/plain": [
       "array([[20,  9,  4, 21, 18,  1, 16, 11,  9]])"
      ]
     },
     "execution_count": 15,
     "metadata": {},
     "output_type": "execute_result"
    }
   ],
   "source": [
    "ranarr.reshape(1,9)"
   ]
  },
  {
   "cell_type": "code",
   "execution_count": 16,
   "id": "a245eb02",
   "metadata": {
    "ExecuteTime": {
     "end_time": "2023-07-20T00:17:59.930911Z",
     "start_time": "2023-07-20T00:17:59.920907Z"
    }
   },
   "outputs": [
    {
     "data": {
      "text/plain": [
       "array([[20],\n",
       "       [ 9],\n",
       "       [ 4],\n",
       "       [21],\n",
       "       [18],\n",
       "       [ 1],\n",
       "       [16],\n",
       "       [11],\n",
       "       [ 9]])"
      ]
     },
     "execution_count": 16,
     "metadata": {},
     "output_type": "execute_result"
    }
   ],
   "source": [
    "ranarr.reshape(9,1)"
   ]
  },
  {
   "cell_type": "code",
   "execution_count": 17,
   "id": "be3ce72d",
   "metadata": {
    "ExecuteTime": {
     "end_time": "2023-07-20T00:24:28.282723Z",
     "start_time": "2023-07-20T00:24:28.276734Z"
    }
   },
   "outputs": [
    {
     "data": {
      "text/plain": [
       "array([ 0,  1,  2,  3,  4,  5,  6,  7,  8,  9, 10, 11, 12, 13, 14])"
      ]
     },
     "execution_count": 17,
     "metadata": {},
     "output_type": "execute_result"
    }
   ],
   "source": [
    "np.arange(0,15)"
   ]
  },
  {
   "cell_type": "code",
   "execution_count": 18,
   "id": "14e7f5b7",
   "metadata": {
    "ExecuteTime": {
     "end_time": "2023-07-20T00:24:44.838190Z",
     "start_time": "2023-07-20T00:24:44.820191Z"
    }
   },
   "outputs": [],
   "source": [
    "arr = np.arange(0,20)"
   ]
  },
  {
   "cell_type": "code",
   "execution_count": 19,
   "id": "024a867d",
   "metadata": {
    "ExecuteTime": {
     "end_time": "2023-07-20T00:24:52.993303Z",
     "start_time": "2023-07-20T00:24:52.981729Z"
    }
   },
   "outputs": [
    {
     "data": {
      "text/plain": [
       "8"
      ]
     },
     "execution_count": 19,
     "metadata": {},
     "output_type": "execute_result"
    }
   ],
   "source": [
    "arr[8]"
   ]
  },
  {
   "cell_type": "code",
   "execution_count": 20,
   "id": "2df570d2",
   "metadata": {
    "ExecuteTime": {
     "end_time": "2023-07-20T00:25:00.232856Z",
     "start_time": "2023-07-20T00:25:00.215839Z"
    }
   },
   "outputs": [
    {
     "data": {
      "text/plain": [
       "array([0, 1, 2, 3, 4])"
      ]
     },
     "execution_count": 20,
     "metadata": {},
     "output_type": "execute_result"
    }
   ],
   "source": [
    "arr[ : 5]"
   ]
  },
  {
   "cell_type": "code",
   "execution_count": 21,
   "id": "3a410f18",
   "metadata": {
    "ExecuteTime": {
     "end_time": "2023-07-20T00:25:07.662354Z",
     "start_time": "2023-07-20T00:25:07.643333Z"
    }
   },
   "outputs": [
    {
     "data": {
      "text/plain": [
       "array([11, 12, 13, 14, 15])"
      ]
     },
     "execution_count": 21,
     "metadata": {},
     "output_type": "execute_result"
    }
   ],
   "source": [
    "arr[11:16]"
   ]
  },
  {
   "cell_type": "code",
   "execution_count": 22,
   "id": "444d733d",
   "metadata": {
    "ExecuteTime": {
     "end_time": "2023-07-20T00:25:32.246575Z",
     "start_time": "2023-07-20T00:25:32.240563Z"
    }
   },
   "outputs": [
    {
     "data": {
      "text/plain": [
       "array([ 7,  8,  9, 10, 11, 12, 13, 14, 15, 16, 17, 18, 19])"
      ]
     },
     "execution_count": 22,
     "metadata": {},
     "output_type": "execute_result"
    }
   ],
   "source": [
    "arr[7:]"
   ]
  },
  {
   "cell_type": "code",
   "execution_count": 23,
   "id": "28a764d0",
   "metadata": {
    "ExecuteTime": {
     "end_time": "2023-07-20T00:29:46.576917Z",
     "start_time": "2023-07-20T00:29:46.565917Z"
    }
   },
   "outputs": [],
   "source": [
    "arr[0:8] = 27"
   ]
  },
  {
   "cell_type": "code",
   "execution_count": 24,
   "id": "50af947d",
   "metadata": {
    "ExecuteTime": {
     "end_time": "2023-07-20T00:29:48.486070Z",
     "start_time": "2023-07-20T00:29:48.478072Z"
    }
   },
   "outputs": [
    {
     "data": {
      "text/plain": [
       "array([27, 27, 27, 27, 27, 27, 27, 27,  8,  9, 10, 11, 12, 13, 14, 15, 16,\n",
       "       17, 18, 19])"
      ]
     },
     "execution_count": 24,
     "metadata": {},
     "output_type": "execute_result"
    }
   ],
   "source": [
    "arr"
   ]
  },
  {
   "cell_type": "code",
   "execution_count": 25,
   "id": "9d4b16b6",
   "metadata": {
    "ExecuteTime": {
     "end_time": "2023-07-20T00:31:06.031464Z",
     "start_time": "2023-07-20T00:31:06.022467Z"
    }
   },
   "outputs": [],
   "source": [
    "slice_of_arr = arr[0:11]"
   ]
  },
  {
   "cell_type": "code",
   "execution_count": 26,
   "id": "4cb67528",
   "metadata": {
    "ExecuteTime": {
     "end_time": "2023-07-20T00:31:37.431857Z",
     "start_time": "2023-07-20T00:31:37.415504Z"
    }
   },
   "outputs": [],
   "source": [
    "slice_of_arr[0:8] = 29"
   ]
  },
  {
   "cell_type": "code",
   "execution_count": 27,
   "id": "79a8b93d",
   "metadata": {
    "ExecuteTime": {
     "end_time": "2023-07-20T00:31:42.760491Z",
     "start_time": "2023-07-20T00:31:42.752483Z"
    }
   },
   "outputs": [
    {
     "data": {
      "text/plain": [
       "array([29, 29, 29, 29, 29, 29, 29, 29,  8,  9, 10])"
      ]
     },
     "execution_count": 27,
     "metadata": {},
     "output_type": "execute_result"
    }
   ],
   "source": [
    "slice_of_arr"
   ]
  },
  {
   "cell_type": "code",
   "execution_count": 28,
   "id": "018e698d",
   "metadata": {
    "ExecuteTime": {
     "end_time": "2023-07-20T00:31:46.243568Z",
     "start_time": "2023-07-20T00:31:46.223564Z"
    }
   },
   "outputs": [
    {
     "data": {
      "text/plain": [
       "array([29, 29, 29, 29, 29, 29, 29, 29,  8,  9, 10, 11, 12, 13, 14, 15, 16,\n",
       "       17, 18, 19])"
      ]
     },
     "execution_count": 28,
     "metadata": {},
     "output_type": "execute_result"
    }
   ],
   "source": [
    "arr"
   ]
  },
  {
   "cell_type": "code",
   "execution_count": 29,
   "id": "bbd4978d",
   "metadata": {
    "ExecuteTime": {
     "end_time": "2023-07-20T00:33:29.283079Z",
     "start_time": "2023-07-20T00:33:29.272874Z"
    }
   },
   "outputs": [],
   "source": [
    "arr_copy = arr.copy()"
   ]
  },
  {
   "cell_type": "code",
   "execution_count": 30,
   "id": "c72fc155",
   "metadata": {
    "ExecuteTime": {
     "end_time": "2023-07-20T00:33:40.214544Z",
     "start_time": "2023-07-20T00:33:40.199955Z"
    }
   },
   "outputs": [],
   "source": [
    "arr_copy[0:7] = 76"
   ]
  },
  {
   "cell_type": "code",
   "execution_count": 31,
   "id": "8650e3b9",
   "metadata": {
    "ExecuteTime": {
     "end_time": "2023-07-20T00:33:44.912655Z",
     "start_time": "2023-07-20T00:33:44.905094Z"
    }
   },
   "outputs": [
    {
     "data": {
      "text/plain": [
       "array([76, 76, 76, 76, 76, 76, 76, 29,  8,  9, 10, 11, 12, 13, 14, 15, 16,\n",
       "       17, 18, 19])"
      ]
     },
     "execution_count": 31,
     "metadata": {},
     "output_type": "execute_result"
    }
   ],
   "source": [
    "arr_copy"
   ]
  },
  {
   "cell_type": "code",
   "execution_count": 32,
   "id": "5c372977",
   "metadata": {
    "ExecuteTime": {
     "end_time": "2023-07-20T00:33:47.998551Z",
     "start_time": "2023-07-20T00:33:47.982552Z"
    }
   },
   "outputs": [
    {
     "data": {
      "text/plain": [
       "array([29, 29, 29, 29, 29, 29, 29, 29,  8,  9, 10, 11, 12, 13, 14, 15, 16,\n",
       "       17, 18, 19])"
      ]
     },
     "execution_count": 32,
     "metadata": {},
     "output_type": "execute_result"
    }
   ],
   "source": [
    "arr"
   ]
  },
  {
   "cell_type": "code",
   "execution_count": 33,
   "id": "c5bbb84e",
   "metadata": {
    "ExecuteTime": {
     "end_time": "2023-07-20T00:37:02.934982Z",
     "start_time": "2023-07-20T00:37:02.917999Z"
    }
   },
   "outputs": [
    {
     "data": {
      "text/plain": [
       "array([[29, 29, 29, 29],\n",
       "       [29, 29, 29, 29],\n",
       "       [ 8,  9, 10, 11],\n",
       "       [12, 13, 14, 15],\n",
       "       [16, 17, 18, 19]])"
      ]
     },
     "execution_count": 33,
     "metadata": {},
     "output_type": "execute_result"
    }
   ],
   "source": [
    "arr.reshape(5,4)"
   ]
  },
  {
   "cell_type": "code",
   "execution_count": 34,
   "id": "63f65145",
   "metadata": {
    "ExecuteTime": {
     "end_time": "2023-07-20T00:37:29.758068Z",
     "start_time": "2023-07-20T00:37:29.742394Z"
    }
   },
   "outputs": [],
   "source": [
    "arr_2d = arr.reshape(5,4)"
   ]
  },
  {
   "cell_type": "code",
   "execution_count": 35,
   "id": "cedd96b2",
   "metadata": {
    "ExecuteTime": {
     "end_time": "2023-07-20T00:37:34.082669Z",
     "start_time": "2023-07-20T00:37:34.069655Z"
    }
   },
   "outputs": [
    {
     "data": {
      "text/plain": [
       "array([[29, 29, 29, 29],\n",
       "       [29, 29, 29, 29],\n",
       "       [ 8,  9, 10, 11],\n",
       "       [12, 13, 14, 15],\n",
       "       [16, 17, 18, 19]])"
      ]
     },
     "execution_count": 35,
     "metadata": {},
     "output_type": "execute_result"
    }
   ],
   "source": [
    "arr_2d"
   ]
  },
  {
   "cell_type": "code",
   "execution_count": 36,
   "id": "94923c89",
   "metadata": {
    "ExecuteTime": {
     "end_time": "2023-07-20T00:37:42.054003Z",
     "start_time": "2023-07-20T00:37:42.045987Z"
    }
   },
   "outputs": [
    {
     "data": {
      "text/plain": [
       "array([29, 29, 29, 29])"
      ]
     },
     "execution_count": 36,
     "metadata": {},
     "output_type": "execute_result"
    }
   ],
   "source": [
    "arr_2d[0]"
   ]
  },
  {
   "cell_type": "code",
   "execution_count": 37,
   "id": "22bc6273",
   "metadata": {
    "ExecuteTime": {
     "end_time": "2023-07-20T00:37:55.513794Z",
     "start_time": "2023-07-20T00:37:55.502799Z"
    }
   },
   "outputs": [
    {
     "data": {
      "text/plain": [
       "11"
      ]
     },
     "execution_count": 37,
     "metadata": {},
     "output_type": "execute_result"
    }
   ],
   "source": [
    "arr_2d[2,3]"
   ]
  },
  {
   "cell_type": "code",
   "execution_count": 38,
   "id": "87feb099",
   "metadata": {
    "ExecuteTime": {
     "end_time": "2023-07-20T00:38:17.161033Z",
     "start_time": "2023-07-20T00:38:17.148029Z"
    }
   },
   "outputs": [
    {
     "ename": "SyntaxError",
     "evalue": "invalid syntax (4178344395.py, line 1)",
     "output_type": "error",
     "traceback": [
      "\u001b[1;36m  File \u001b[1;32m\"C:\\Users\\user\\AppData\\Local\\Temp\\ipykernel_12972\\4178344395.py\"\u001b[1;36m, line \u001b[1;32m1\u001b[0m\n\u001b[1;33m    arr[,3]\u001b[0m\n\u001b[1;37m        ^\u001b[0m\n\u001b[1;31mSyntaxError\u001b[0m\u001b[1;31m:\u001b[0m invalid syntax\n"
     ]
    }
   ],
   "source": [
    "arr[,3]"
   ]
  },
  {
   "cell_type": "code",
   "execution_count": 39,
   "id": "928cdd4c",
   "metadata": {
    "ExecuteTime": {
     "end_time": "2023-07-20T00:40:39.963383Z",
     "start_time": "2023-07-20T00:40:39.948379Z"
    }
   },
   "outputs": [
    {
     "data": {
      "text/plain": [
       "array([[29, 29, 29, 29],\n",
       "       [29, 29, 29, 29]])"
      ]
     },
     "execution_count": 39,
     "metadata": {},
     "output_type": "execute_result"
    }
   ],
   "source": [
    "arr_2d[:2]"
   ]
  },
  {
   "cell_type": "code",
   "execution_count": 40,
   "id": "246ff550",
   "metadata": {
    "ExecuteTime": {
     "end_time": "2023-07-20T00:40:52.686782Z",
     "start_time": "2023-07-20T00:40:52.672774Z"
    }
   },
   "outputs": [
    {
     "data": {
      "text/plain": [
       "array([[29, 29, 29],\n",
       "       [29, 29, 29]])"
      ]
     },
     "execution_count": 40,
     "metadata": {},
     "output_type": "execute_result"
    }
   ],
   "source": [
    "arr_2d[:2,1:]"
   ]
  },
  {
   "cell_type": "code",
   "execution_count": 41,
   "id": "2c7a6773",
   "metadata": {
    "ExecuteTime": {
     "end_time": "2023-07-20T00:41:22.923539Z",
     "start_time": "2023-07-20T00:41:22.910535Z"
    }
   },
   "outputs": [
    {
     "data": {
      "text/plain": [
       "array([[29, 29],\n",
       "       [29, 29]])"
      ]
     },
     "execution_count": 41,
     "metadata": {},
     "output_type": "execute_result"
    }
   ],
   "source": [
    "arr_2d[:2,2:]"
   ]
  },
  {
   "cell_type": "code",
   "execution_count": 42,
   "id": "32f10108",
   "metadata": {
    "ExecuteTime": {
     "end_time": "2023-07-20T00:41:59.703323Z",
     "start_time": "2023-07-20T00:41:59.697316Z"
    }
   },
   "outputs": [],
   "source": [
    "arr = np.arange(1,11)"
   ]
  },
  {
   "cell_type": "code",
   "execution_count": 43,
   "id": "44a96354",
   "metadata": {
    "ExecuteTime": {
     "end_time": "2023-07-20T00:42:02.736217Z",
     "start_time": "2023-07-20T00:42:02.724183Z"
    }
   },
   "outputs": [
    {
     "data": {
      "text/plain": [
       "array([ 1,  2,  3,  4,  5,  6,  7,  8,  9, 10])"
      ]
     },
     "execution_count": 43,
     "metadata": {},
     "output_type": "execute_result"
    }
   ],
   "source": [
    "arr"
   ]
  },
  {
   "cell_type": "code",
   "execution_count": 44,
   "id": "4f390e33",
   "metadata": {
    "ExecuteTime": {
     "end_time": "2023-07-20T00:42:17.802819Z",
     "start_time": "2023-07-20T00:42:17.788797Z"
    }
   },
   "outputs": [
    {
     "data": {
      "text/plain": [
       "array([False, False, False, False,  True,  True,  True,  True,  True,\n",
       "        True])"
      ]
     },
     "execution_count": 44,
     "metadata": {},
     "output_type": "execute_result"
    }
   ],
   "source": [
    "arr > 4"
   ]
  },
  {
   "cell_type": "code",
   "execution_count": 45,
   "id": "e0775b45",
   "metadata": {
    "ExecuteTime": {
     "end_time": "2023-07-20T00:43:12.619969Z",
     "start_time": "2023-07-20T00:43:12.615974Z"
    }
   },
   "outputs": [],
   "source": [
    "bool_arr = arr > 4"
   ]
  },
  {
   "cell_type": "code",
   "execution_count": 46,
   "id": "ec6f6b89",
   "metadata": {
    "ExecuteTime": {
     "end_time": "2023-07-20T00:43:17.739514Z",
     "start_time": "2023-07-20T00:43:17.729517Z"
    }
   },
   "outputs": [
    {
     "data": {
      "text/plain": [
       "array([False, False, False, False,  True,  True,  True,  True,  True,\n",
       "        True])"
      ]
     },
     "execution_count": 46,
     "metadata": {},
     "output_type": "execute_result"
    }
   ],
   "source": [
    "bool_arr"
   ]
  },
  {
   "cell_type": "code",
   "execution_count": 47,
   "id": "a718cba2",
   "metadata": {
    "ExecuteTime": {
     "end_time": "2023-07-20T00:43:25.953368Z",
     "start_time": "2023-07-20T00:43:25.937335Z"
    }
   },
   "outputs": [
    {
     "ename": "TypeError",
     "evalue": "'numpy.ndarray' object is not callable",
     "output_type": "error",
     "traceback": [
      "\u001b[1;31m---------------------------------------------------------------------------\u001b[0m",
      "\u001b[1;31mTypeError\u001b[0m                                 Traceback (most recent call last)",
      "\u001b[1;32m~\\AppData\\Local\\Temp\\ipykernel_12972\\170446862.py\u001b[0m in \u001b[0;36m<module>\u001b[1;34m\u001b[0m\n\u001b[1;32m----> 1\u001b[1;33m \u001b[0marr\u001b[0m\u001b[1;33m(\u001b[0m\u001b[0mbool_arr\u001b[0m\u001b[1;33m)\u001b[0m\u001b[1;33m\u001b[0m\u001b[1;33m\u001b[0m\u001b[0m\n\u001b[0m",
      "\u001b[1;31mTypeError\u001b[0m: 'numpy.ndarray' object is not callable"
     ]
    }
   ],
   "source": [
    "arr(bool_arr)"
   ]
  },
  {
   "cell_type": "code",
   "execution_count": 48,
   "id": "c33c8c31",
   "metadata": {
    "ExecuteTime": {
     "end_time": "2023-07-20T00:43:41.654832Z",
     "start_time": "2023-07-20T00:43:41.640810Z"
    }
   },
   "outputs": [
    {
     "data": {
      "text/plain": [
       "array([ 5,  6,  7,  8,  9, 10])"
      ]
     },
     "execution_count": 48,
     "metadata": {},
     "output_type": "execute_result"
    }
   ],
   "source": [
    "arr[bool_arr]"
   ]
  },
  {
   "cell_type": "code",
   "execution_count": 49,
   "id": "81499712",
   "metadata": {
    "ExecuteTime": {
     "end_time": "2023-07-20T00:44:13.975337Z",
     "start_time": "2023-07-20T00:44:13.957792Z"
    }
   },
   "outputs": [
    {
     "data": {
      "text/plain": [
       "array([1, 2, 3, 4, 5, 6])"
      ]
     },
     "execution_count": 49,
     "metadata": {},
     "output_type": "execute_result"
    }
   ],
   "source": [
    "arr[arr<7]"
   ]
  },
  {
   "cell_type": "code",
   "execution_count": 50,
   "id": "6a7d343c",
   "metadata": {
    "ExecuteTime": {
     "end_time": "2023-07-20T00:48:18.996754Z",
     "start_time": "2023-07-20T00:48:18.982766Z"
    }
   },
   "outputs": [],
   "source": [
    "dice_rolls = np.array([3, 1, 5, 2, 5, 1, 1, 5, 1, 4, 2, 1, 4, 5, 3, 4, 5, 2, 4, 2, 6, 6, 3, 6, 2, 3, 5, 6, 5])"
   ]
  },
  {
   "cell_type": "code",
   "execution_count": 51,
   "id": "c7028687",
   "metadata": {
    "ExecuteTime": {
     "end_time": "2023-07-20T00:48:52.262111Z",
     "start_time": "2023-07-20T00:48:52.249101Z"
    }
   },
   "outputs": [],
   "source": [
    "condition = dice_rolls[dice_rolls>2].shape"
   ]
  },
  {
   "cell_type": "code",
   "execution_count": 52,
   "id": "e7c9e8ae",
   "metadata": {
    "ExecuteTime": {
     "end_time": "2023-07-20T00:48:57.242477Z",
     "start_time": "2023-07-20T00:48:57.237477Z"
    }
   },
   "outputs": [
    {
     "data": {
      "text/plain": [
       "(19,)"
      ]
     },
     "execution_count": 52,
     "metadata": {},
     "output_type": "execute_result"
    }
   ],
   "source": [
    "condition"
   ]
  },
  {
   "cell_type": "code",
   "execution_count": 53,
   "id": "bfeb0ee9",
   "metadata": {
    "ExecuteTime": {
     "end_time": "2023-07-20T00:49:10.033055Z",
     "start_time": "2023-07-20T00:49:10.026050Z"
    }
   },
   "outputs": [],
   "source": [
    "x = condition[0]"
   ]
  },
  {
   "cell_type": "code",
   "execution_count": 54,
   "id": "351383a8",
   "metadata": {
    "ExecuteTime": {
     "end_time": "2023-07-20T00:49:12.822253Z",
     "start_time": "2023-07-20T00:49:12.808221Z"
    }
   },
   "outputs": [
    {
     "data": {
      "text/plain": [
       "19"
      ]
     },
     "execution_count": 54,
     "metadata": {},
     "output_type": "execute_result"
    }
   ],
   "source": [
    "x"
   ]
  },
  {
   "cell_type": "code",
   "execution_count": 55,
   "id": "ca7a45ac",
   "metadata": {
    "ExecuteTime": {
     "end_time": "2023-07-20T00:50:44.024625Z",
     "start_time": "2023-07-20T00:50:44.011605Z"
    }
   },
   "outputs": [
    {
     "ename": "TypeError",
     "evalue": "'builtin_function_or_method' object is not subscriptable",
     "output_type": "error",
     "traceback": [
      "\u001b[1;31m---------------------------------------------------------------------------\u001b[0m",
      "\u001b[1;31mTypeError\u001b[0m                                 Traceback (most recent call last)",
      "\u001b[1;32m~\\AppData\\Local\\Temp\\ipykernel_12972\\3206924124.py\u001b[0m in \u001b[0;36m<module>\u001b[1;34m\u001b[0m\n\u001b[1;32m----> 1\u001b[1;33m \u001b[0marr\u001b[0m \u001b[1;33m=\u001b[0m \u001b[0mnp\u001b[0m\u001b[1;33m.\u001b[0m\u001b[0marange\u001b[0m\u001b[1;33m[\u001b[0m\u001b[1;36m0\u001b[0m\u001b[1;33m,\u001b[0m\u001b[1;36m10\u001b[0m\u001b[1;33m]\u001b[0m\u001b[1;33m\u001b[0m\u001b[1;33m\u001b[0m\u001b[0m\n\u001b[0m",
      "\u001b[1;31mTypeError\u001b[0m: 'builtin_function_or_method' object is not subscriptable"
     ]
    }
   ],
   "source": [
    "arr = np.arange[0,10]"
   ]
  },
  {
   "cell_type": "code",
   "execution_count": 56,
   "id": "489b0e5b",
   "metadata": {
    "ExecuteTime": {
     "end_time": "2023-07-20T00:50:46.830694Z",
     "start_time": "2023-07-20T00:50:46.826689Z"
    }
   },
   "outputs": [
    {
     "data": {
      "text/plain": [
       "array([ 1,  2,  3,  4,  5,  6,  7,  8,  9, 10])"
      ]
     },
     "execution_count": 56,
     "metadata": {},
     "output_type": "execute_result"
    }
   ],
   "source": [
    "arr"
   ]
  },
  {
   "cell_type": "code",
   "execution_count": 57,
   "id": "8dc0752e",
   "metadata": {
    "ExecuteTime": {
     "end_time": "2023-07-20T00:51:18.543888Z",
     "start_time": "2023-07-20T00:51:18.535893Z"
    }
   },
   "outputs": [],
   "source": [
    "arr = np.arange(0,10)"
   ]
  },
  {
   "cell_type": "code",
   "execution_count": 58,
   "id": "476ca155",
   "metadata": {
    "ExecuteTime": {
     "end_time": "2023-07-20T00:51:25.116879Z",
     "start_time": "2023-07-20T00:51:25.106876Z"
    }
   },
   "outputs": [],
   "source": [
    "arr = arr + 5"
   ]
  },
  {
   "cell_type": "code",
   "execution_count": 59,
   "id": "ff548a95",
   "metadata": {
    "ExecuteTime": {
     "end_time": "2023-07-20T00:51:28.956423Z",
     "start_time": "2023-07-20T00:51:28.950411Z"
    }
   },
   "outputs": [
    {
     "data": {
      "text/plain": [
       "array([ 5,  6,  7,  8,  9, 10, 11, 12, 13, 14])"
      ]
     },
     "execution_count": 59,
     "metadata": {},
     "output_type": "execute_result"
    }
   ],
   "source": [
    "arr"
   ]
  },
  {
   "cell_type": "code",
   "execution_count": 60,
   "id": "fd265899",
   "metadata": {
    "ExecuteTime": {
     "end_time": "2023-07-20T00:51:54.832327Z",
     "start_time": "2023-07-20T00:51:54.820328Z"
    }
   },
   "outputs": [
    {
     "data": {
      "text/plain": [
       "array([ 3,  4,  5,  6,  7,  8,  9, 10, 11, 12])"
      ]
     },
     "execution_count": 60,
     "metadata": {},
     "output_type": "execute_result"
    }
   ],
   "source": [
    "arr - 2"
   ]
  },
  {
   "cell_type": "code",
   "execution_count": 61,
   "id": "0ac2f091",
   "metadata": {
    "ExecuteTime": {
     "end_time": "2023-07-20T00:51:59.695477Z",
     "start_time": "2023-07-20T00:51:59.688436Z"
    }
   },
   "outputs": [
    {
     "data": {
      "text/plain": [
       "array([ 5,  6,  7,  8,  9, 10, 11, 12, 13, 14])"
      ]
     },
     "execution_count": 61,
     "metadata": {},
     "output_type": "execute_result"
    }
   ],
   "source": [
    "arr"
   ]
  },
  {
   "cell_type": "code",
   "execution_count": 62,
   "id": "4a4004c2",
   "metadata": {
    "ExecuteTime": {
     "end_time": "2023-07-20T00:52:15.410106Z",
     "start_time": "2023-07-20T00:52:15.403087Z"
    }
   },
   "outputs": [
    {
     "data": {
      "text/plain": [
       "array([10, 12, 14, 16, 18, 20, 22, 24, 26, 28])"
      ]
     },
     "execution_count": 62,
     "metadata": {},
     "output_type": "execute_result"
    }
   ],
   "source": [
    "arr + arr"
   ]
  },
  {
   "cell_type": "code",
   "execution_count": 63,
   "id": "d8903536",
   "metadata": {
    "ExecuteTime": {
     "end_time": "2023-07-20T00:52:29.038474Z",
     "start_time": "2023-07-20T00:52:29.023422Z"
    }
   },
   "outputs": [
    {
     "data": {
      "text/plain": [
       "array([0, 0, 0, 0, 0, 0, 0, 0, 0, 0])"
      ]
     },
     "execution_count": 63,
     "metadata": {},
     "output_type": "execute_result"
    }
   ],
   "source": [
    "arr-arr"
   ]
  },
  {
   "cell_type": "code",
   "execution_count": 64,
   "id": "665d9e36",
   "metadata": {
    "ExecuteTime": {
     "end_time": "2023-07-20T00:53:07.605591Z",
     "start_time": "2023-07-20T00:53:07.597591Z"
    }
   },
   "outputs": [
    {
     "data": {
      "text/plain": [
       "array([1., 1., 1., 1., 1., 1., 1., 1., 1., 1.])"
      ]
     },
     "execution_count": 64,
     "metadata": {},
     "output_type": "execute_result"
    }
   ],
   "source": [
    "arr / arr"
   ]
  },
  {
   "cell_type": "code",
   "execution_count": 65,
   "id": "63d058cd",
   "metadata": {
    "ExecuteTime": {
     "end_time": "2023-07-20T00:53:42.452708Z",
     "start_time": "2023-07-20T00:53:42.433173Z"
    }
   },
   "outputs": [
    {
     "data": {
      "text/plain": [
       "array([0.2       , 0.16666667, 0.14285714, 0.125     , 0.11111111,\n",
       "       0.1       , 0.09090909, 0.08333333, 0.07692308, 0.07142857])"
      ]
     },
     "execution_count": 65,
     "metadata": {},
     "output_type": "execute_result"
    }
   ],
   "source": [
    "1/arr"
   ]
  },
  {
   "cell_type": "code",
   "execution_count": 66,
   "id": "67dcb1b8",
   "metadata": {
    "ExecuteTime": {
     "end_time": "2023-07-20T00:54:01.427582Z",
     "start_time": "2023-07-20T00:54:01.411572Z"
    }
   },
   "outputs": [],
   "source": [
    "arr = np.arange(0,10)"
   ]
  },
  {
   "cell_type": "code",
   "execution_count": 67,
   "id": "220b9451",
   "metadata": {
    "ExecuteTime": {
     "end_time": "2023-07-20T00:54:04.187791Z",
     "start_time": "2023-07-20T00:54:04.179793Z"
    }
   },
   "outputs": [
    {
     "data": {
      "text/plain": [
       "array([0, 1, 2, 3, 4, 5, 6, 7, 8, 9])"
      ]
     },
     "execution_count": 67,
     "metadata": {},
     "output_type": "execute_result"
    }
   ],
   "source": [
    "arr"
   ]
  },
  {
   "cell_type": "code",
   "execution_count": 68,
   "id": "b32ed075",
   "metadata": {
    "ExecuteTime": {
     "end_time": "2023-07-20T00:54:10.759603Z",
     "start_time": "2023-07-20T00:54:10.749478Z"
    }
   },
   "outputs": [
    {
     "name": "stderr",
     "output_type": "stream",
     "text": [
      "C:\\Users\\user\\AppData\\Local\\Temp\\ipykernel_12972\\3001117470.py:1: RuntimeWarning: invalid value encountered in true_divide\n",
      "  arr / arr\n"
     ]
    },
    {
     "data": {
      "text/plain": [
       "array([nan,  1.,  1.,  1.,  1.,  1.,  1.,  1.,  1.,  1.])"
      ]
     },
     "execution_count": 68,
     "metadata": {},
     "output_type": "execute_result"
    }
   ],
   "source": [
    "arr / arr"
   ]
  },
  {
   "cell_type": "code",
   "execution_count": 69,
   "id": "7156598a",
   "metadata": {
    "ExecuteTime": {
     "end_time": "2023-07-20T00:54:16.192312Z",
     "start_time": "2023-07-20T00:54:16.180301Z"
    }
   },
   "outputs": [
    {
     "name": "stderr",
     "output_type": "stream",
     "text": [
      "C:\\Users\\user\\AppData\\Local\\Temp\\ipykernel_12972\\1528351372.py:1: RuntimeWarning: divide by zero encountered in true_divide\n",
      "  1 / arr\n"
     ]
    },
    {
     "data": {
      "text/plain": [
       "array([       inf, 1.        , 0.5       , 0.33333333, 0.25      ,\n",
       "       0.2       , 0.16666667, 0.14285714, 0.125     , 0.11111111])"
      ]
     },
     "execution_count": 69,
     "metadata": {},
     "output_type": "execute_result"
    }
   ],
   "source": [
    "1 / arr"
   ]
  },
  {
   "cell_type": "code",
   "execution_count": 70,
   "id": "6a2b4b09",
   "metadata": {
    "ExecuteTime": {
     "end_time": "2023-07-20T00:55:49.508381Z",
     "start_time": "2023-07-20T00:55:49.498035Z"
    }
   },
   "outputs": [
    {
     "data": {
      "text/plain": [
       "array([0.        , 1.        , 1.41421356, 1.73205081, 2.        ,\n",
       "       2.23606798, 2.44948974, 2.64575131, 2.82842712, 3.        ])"
      ]
     },
     "execution_count": 70,
     "metadata": {},
     "output_type": "execute_result"
    }
   ],
   "source": [
    "np.sqrt(arr)"
   ]
  },
  {
   "cell_type": "code",
   "execution_count": 71,
   "id": "b0c51515",
   "metadata": {
    "ExecuteTime": {
     "end_time": "2023-07-20T00:56:02.165372Z",
     "start_time": "2023-07-20T00:56:02.150361Z"
    }
   },
   "outputs": [
    {
     "name": "stderr",
     "output_type": "stream",
     "text": [
      "C:\\Users\\user\\AppData\\Local\\Temp\\ipykernel_12972\\3120950136.py:1: RuntimeWarning: divide by zero encountered in log\n",
      "  np.log(arr)\n"
     ]
    },
    {
     "data": {
      "text/plain": [
       "array([      -inf, 0.        , 0.69314718, 1.09861229, 1.38629436,\n",
       "       1.60943791, 1.79175947, 1.94591015, 2.07944154, 2.19722458])"
      ]
     },
     "execution_count": 71,
     "metadata": {},
     "output_type": "execute_result"
    }
   ],
   "source": [
    "np.log(arr)"
   ]
  },
  {
   "cell_type": "code",
   "execution_count": 72,
   "id": "9be618d5",
   "metadata": {
    "ExecuteTime": {
     "end_time": "2023-07-20T00:56:10.956591Z",
     "start_time": "2023-07-20T00:56:10.949386Z"
    }
   },
   "outputs": [
    {
     "data": {
      "text/plain": [
       "array([ 0.        ,  0.84147098,  0.90929743,  0.14112001, -0.7568025 ,\n",
       "       -0.95892427, -0.2794155 ,  0.6569866 ,  0.98935825,  0.41211849])"
      ]
     },
     "execution_count": 72,
     "metadata": {},
     "output_type": "execute_result"
    }
   ],
   "source": [
    "np.sin(arr)"
   ]
  },
  {
   "cell_type": "code",
   "execution_count": 73,
   "id": "62988e42",
   "metadata": {
    "ExecuteTime": {
     "end_time": "2023-07-20T00:56:19.791478Z",
     "start_time": "2023-07-20T00:56:19.783470Z"
    }
   },
   "outputs": [
    {
     "data": {
      "text/plain": [
       "array([ 0.        ,  1.55740772, -2.18503986, -0.14254654,  1.15782128,\n",
       "       -3.38051501, -0.29100619,  0.87144798, -6.79971146, -0.45231566])"
      ]
     },
     "execution_count": 73,
     "metadata": {},
     "output_type": "execute_result"
    }
   ],
   "source": [
    "np.tan(arr)"
   ]
  },
  {
   "cell_type": "code",
   "execution_count": 74,
   "id": "b7382123",
   "metadata": {
    "ExecuteTime": {
     "end_time": "2023-07-20T00:56:30.494694Z",
     "start_time": "2023-07-20T00:56:30.478671Z"
    }
   },
   "outputs": [
    {
     "ename": "AttributeError",
     "evalue": "module 'numpy' has no attribute 'cot'",
     "output_type": "error",
     "traceback": [
      "\u001b[1;31m---------------------------------------------------------------------------\u001b[0m",
      "\u001b[1;31mAttributeError\u001b[0m                            Traceback (most recent call last)",
      "\u001b[1;32m~\\AppData\\Local\\Temp\\ipykernel_12972\\3699001024.py\u001b[0m in \u001b[0;36m<module>\u001b[1;34m\u001b[0m\n\u001b[1;32m----> 1\u001b[1;33m \u001b[0mnp\u001b[0m\u001b[1;33m.\u001b[0m\u001b[0mcot\u001b[0m\u001b[1;33m(\u001b[0m\u001b[0marr\u001b[0m\u001b[1;33m)\u001b[0m\u001b[1;33m\u001b[0m\u001b[1;33m\u001b[0m\u001b[0m\n\u001b[0m",
      "\u001b[1;32m~\\anaconda3\\lib\\site-packages\\numpy\\__init__.py\u001b[0m in \u001b[0;36m__getattr__\u001b[1;34m(attr)\u001b[0m\n\u001b[0;32m    311\u001b[0m                 \u001b[1;32mreturn\u001b[0m \u001b[0mTester\u001b[0m\u001b[1;33m\u001b[0m\u001b[1;33m\u001b[0m\u001b[0m\n\u001b[0;32m    312\u001b[0m \u001b[1;33m\u001b[0m\u001b[0m\n\u001b[1;32m--> 313\u001b[1;33m             raise AttributeError(\"module {!r} has no attribute \"\n\u001b[0m\u001b[0;32m    314\u001b[0m                                  \"{!r}\".format(__name__, attr))\n\u001b[0;32m    315\u001b[0m \u001b[1;33m\u001b[0m\u001b[0m\n",
      "\u001b[1;31mAttributeError\u001b[0m: module 'numpy' has no attribute 'cot'"
     ]
    }
   ],
   "source": [
    "np.cot(arr)"
   ]
  },
  {
   "cell_type": "code",
   "execution_count": 75,
   "id": "0908f727",
   "metadata": {
    "ExecuteTime": {
     "end_time": "2023-07-20T00:56:44.035364Z",
     "start_time": "2023-07-20T00:56:44.020639Z"
    }
   },
   "outputs": [
    {
     "data": {
      "text/plain": [
       "array([0.        , 0.76159416, 0.96402758, 0.99505475, 0.9993293 ,\n",
       "       0.9999092 , 0.99998771, 0.99999834, 0.99999977, 0.99999997])"
      ]
     },
     "execution_count": 75,
     "metadata": {},
     "output_type": "execute_result"
    }
   ],
   "source": [
    "np.tanh(arr)"
   ]
  },
  {
   "cell_type": "code",
   "execution_count": 76,
   "id": "5bd67cb4",
   "metadata": {
    "ExecuteTime": {
     "end_time": "2023-07-20T01:09:16.429163Z",
     "start_time": "2023-07-20T01:09:16.413605Z"
    }
   },
   "outputs": [
    {
     "data": {
      "text/plain": [
       "8.25"
      ]
     },
     "execution_count": 76,
     "metadata": {},
     "output_type": "execute_result"
    }
   ],
   "source": [
    "arr.var()"
   ]
  },
  {
   "cell_type": "code",
   "execution_count": 77,
   "id": "d68ab99b",
   "metadata": {
    "ExecuteTime": {
     "end_time": "2023-07-20T01:09:25.841541Z",
     "start_time": "2023-07-20T01:09:25.830001Z"
    }
   },
   "outputs": [
    {
     "data": {
      "text/plain": [
       "2.8722813232690143"
      ]
     },
     "execution_count": 77,
     "metadata": {},
     "output_type": "execute_result"
    }
   ],
   "source": [
    "arr.std()"
   ]
  },
  {
   "cell_type": "code",
   "execution_count": 78,
   "id": "340acae6",
   "metadata": {
    "ExecuteTime": {
     "end_time": "2023-07-20T01:10:48.052521Z",
     "start_time": "2023-07-20T01:10:48.037508Z"
    }
   },
   "outputs": [],
   "source": [
    "arr2D = np.arange(1,26).reshape(5,5)"
   ]
  },
  {
   "cell_type": "code",
   "execution_count": 79,
   "id": "79bbc2ad",
   "metadata": {
    "ExecuteTime": {
     "end_time": "2023-07-20T01:10:51.308965Z",
     "start_time": "2023-07-20T01:10:51.301959Z"
    }
   },
   "outputs": [
    {
     "data": {
      "text/plain": [
       "array([[ 1,  2,  3,  4,  5],\n",
       "       [ 6,  7,  8,  9, 10],\n",
       "       [11, 12, 13, 14, 15],\n",
       "       [16, 17, 18, 19, 20],\n",
       "       [21, 22, 23, 24, 25]])"
      ]
     },
     "execution_count": 79,
     "metadata": {},
     "output_type": "execute_result"
    }
   ],
   "source": [
    "arr2D"
   ]
  },
  {
   "cell_type": "code",
   "execution_count": 80,
   "id": "c8fa1ae2",
   "metadata": {
    "ExecuteTime": {
     "end_time": "2023-07-20T01:11:04.126346Z",
     "start_time": "2023-07-20T01:11:04.121806Z"
    }
   },
   "outputs": [
    {
     "data": {
      "text/plain": [
       "325"
      ]
     },
     "execution_count": 80,
     "metadata": {},
     "output_type": "execute_result"
    }
   ],
   "source": [
    "arr2D.sum()"
   ]
  },
  {
   "cell_type": "code",
   "execution_count": 81,
   "id": "54711fa2",
   "metadata": {
    "ExecuteTime": {
     "end_time": "2023-07-20T01:11:58.787394Z",
     "start_time": "2023-07-20T01:11:58.768887Z"
    }
   },
   "outputs": [
    {
     "data": {
      "text/plain": [
       "45"
      ]
     },
     "execution_count": 81,
     "metadata": {},
     "output_type": "execute_result"
    }
   ],
   "source": [
    "arr[0:].sum()"
   ]
  },
  {
   "cell_type": "code",
   "execution_count": 82,
   "id": "e50f16c6",
   "metadata": {
    "ExecuteTime": {
     "end_time": "2023-07-20T01:12:44.334572Z",
     "start_time": "2023-07-20T01:12:44.321047Z"
    }
   },
   "outputs": [
    {
     "data": {
      "text/plain": [
       "array([55, 60, 65, 70, 75])"
      ]
     },
     "execution_count": 82,
     "metadata": {},
     "output_type": "execute_result"
    }
   ],
   "source": [
    "arr2D.sum(axis=0)"
   ]
  },
  {
   "cell_type": "code",
   "execution_count": 83,
   "id": "c59d502c",
   "metadata": {
    "ExecuteTime": {
     "end_time": "2023-07-20T01:13:28.347416Z",
     "start_time": "2023-07-20T01:13:28.335400Z"
    }
   },
   "outputs": [
    {
     "data": {
      "text/plain": [
       "array([ 15,  40,  65,  90, 115])"
      ]
     },
     "execution_count": 83,
     "metadata": {},
     "output_type": "execute_result"
    }
   ],
   "source": [
    "arr2D.sum(axis=1)"
   ]
  },
  {
   "cell_type": "code",
   "execution_count": 84,
   "id": "49162116",
   "metadata": {
    "ExecuteTime": {
     "end_time": "2023-07-20T01:57:38.597447Z",
     "start_time": "2023-07-20T01:57:38.583447Z"
    }
   },
   "outputs": [],
   "source": [
    "arr = np.random.randn()"
   ]
  },
  {
   "cell_type": "code",
   "execution_count": 85,
   "id": "5fa05499",
   "metadata": {
    "ExecuteTime": {
     "end_time": "2023-07-20T01:57:41.063399Z",
     "start_time": "2023-07-20T01:57:41.052394Z"
    }
   },
   "outputs": [
    {
     "data": {
      "text/plain": [
       "-1.6223757326672374"
      ]
     },
     "execution_count": 85,
     "metadata": {},
     "output_type": "execute_result"
    }
   ],
   "source": [
    "arr"
   ]
  },
  {
   "cell_type": "code",
   "execution_count": 86,
   "id": "5ff97eb2",
   "metadata": {
    "ExecuteTime": {
     "end_time": "2023-07-20T01:57:58.537152Z",
     "start_time": "2023-07-20T01:57:58.526151Z"
    }
   },
   "outputs": [
    {
     "data": {
      "text/plain": [
       "array([-0.04143227,  0.19517913,  0.51850076,  1.21064922,  1.79798386,\n",
       "        1.21629225,  0.70155794, -0.67174619, -1.10078162, -0.05258745])"
      ]
     },
     "execution_count": 86,
     "metadata": {},
     "output_type": "execute_result"
    }
   ],
   "source": [
    "np.random.randn(10)"
   ]
  },
  {
   "cell_type": "code",
   "execution_count": 87,
   "id": "5507bc15",
   "metadata": {
    "ExecuteTime": {
     "end_time": "2023-07-20T01:58:16.044864Z",
     "start_time": "2023-07-20T01:58:16.036867Z"
    }
   },
   "outputs": [],
   "source": [
    "arr = np.random.randn(3,3)"
   ]
  },
  {
   "cell_type": "code",
   "execution_count": 88,
   "id": "de5573a7",
   "metadata": {
    "ExecuteTime": {
     "end_time": "2023-07-20T01:58:19.083531Z",
     "start_time": "2023-07-20T01:58:19.071516Z"
    }
   },
   "outputs": [
    {
     "data": {
      "text/plain": [
       "array([[-0.24075842,  0.36570509, -1.5218674 ],\n",
       "       [-1.35889655, -0.81912993, -0.83741892],\n",
       "       [-0.0331045 ,  0.60995577, -1.1970348 ]])"
      ]
     },
     "execution_count": 88,
     "metadata": {},
     "output_type": "execute_result"
    }
   ],
   "source": [
    "arr"
   ]
  },
  {
   "cell_type": "code",
   "execution_count": 89,
   "id": "150b2775",
   "metadata": {
    "ExecuteTime": {
     "end_time": "2023-07-20T01:58:38.491211Z",
     "start_time": "2023-07-20T01:58:38.481172Z"
    }
   },
   "outputs": [
    {
     "data": {
      "text/plain": [
       "0.7240780959898344"
      ]
     },
     "execution_count": 89,
     "metadata": {},
     "output_type": "execute_result"
    }
   ],
   "source": [
    "arr.std()"
   ]
  },
  {
   "cell_type": "code",
   "execution_count": 90,
   "id": "5e4dd872",
   "metadata": {
    "ExecuteTime": {
     "end_time": "2023-07-20T01:58:54.218832Z",
     "start_time": "2023-07-20T01:58:54.209839Z"
    }
   },
   "outputs": [
    {
     "data": {
      "text/plain": [
       "0.5242890890922639"
      ]
     },
     "execution_count": 90,
     "metadata": {},
     "output_type": "execute_result"
    }
   ],
   "source": [
    "arr.var()"
   ]
  },
  {
   "cell_type": "code",
   "execution_count": 1,
   "id": "75d7b4e6",
   "metadata": {
    "ExecuteTime": {
     "end_time": "2023-07-21T16:48:49.501163Z",
     "start_time": "2023-07-21T16:48:49.400914Z"
    }
   },
   "outputs": [],
   "source": [
    "import numpy as np"
   ]
  },
  {
   "cell_type": "code",
   "execution_count": 2,
   "id": "4a09e96c",
   "metadata": {
    "ExecuteTime": {
     "end_time": "2023-07-21T16:49:06.621925Z",
     "start_time": "2023-07-21T16:49:06.618924Z"
    }
   },
   "outputs": [],
   "source": [
    "arr = np.array([1,2,3,4,5])"
   ]
  },
  {
   "cell_type": "code",
   "execution_count": 3,
   "id": "573c0256",
   "metadata": {
    "ExecuteTime": {
     "end_time": "2023-07-21T16:49:09.733842Z",
     "start_time": "2023-07-21T16:49:09.710587Z"
    }
   },
   "outputs": [
    {
     "data": {
      "text/plain": [
       "array([1, 2, 3, 4, 5])"
      ]
     },
     "execution_count": 3,
     "metadata": {},
     "output_type": "execute_result"
    }
   ],
   "source": [
    "arr"
   ]
  },
  {
   "cell_type": "code",
   "execution_count": 4,
   "id": "c4b6fcc7",
   "metadata": {
    "ExecuteTime": {
     "end_time": "2023-07-21T16:50:06.963495Z",
     "start_time": "2023-07-21T16:50:06.952500Z"
    }
   },
   "outputs": [
    {
     "data": {
      "text/plain": [
       "array([ 0.,  4.,  8., 12., 16., 20., 24.])"
      ]
     },
     "execution_count": 4,
     "metadata": {},
     "output_type": "execute_result"
    }
   ],
   "source": [
    "np.arange(0,25,4,dtype=float)"
   ]
  },
  {
   "cell_type": "code",
   "execution_count": 5,
   "id": "d8e52464",
   "metadata": {
    "ExecuteTime": {
     "end_time": "2023-07-21T16:50:44.544353Z",
     "start_time": "2023-07-21T16:50:44.526352Z"
    }
   },
   "outputs": [],
   "source": [
    "arr = np.arange(1,26)"
   ]
  },
  {
   "cell_type": "code",
   "execution_count": 6,
   "id": "b2fb631c",
   "metadata": {
    "ExecuteTime": {
     "end_time": "2023-07-21T16:50:47.038244Z",
     "start_time": "2023-07-21T16:50:47.033233Z"
    }
   },
   "outputs": [
    {
     "data": {
      "text/plain": [
       "array([ 1,  2,  3,  4,  5,  6,  7,  8,  9, 10, 11, 12, 13, 14, 15, 16, 17,\n",
       "       18, 19, 20, 21, 22, 23, 24, 25])"
      ]
     },
     "execution_count": 6,
     "metadata": {},
     "output_type": "execute_result"
    }
   ],
   "source": [
    "arr"
   ]
  },
  {
   "cell_type": "code",
   "execution_count": 7,
   "id": "402612df",
   "metadata": {
    "ExecuteTime": {
     "end_time": "2023-07-21T16:50:59.358654Z",
     "start_time": "2023-07-21T16:50:59.347662Z"
    }
   },
   "outputs": [
    {
     "data": {
      "text/plain": [
       "array([[ 1,  2,  3,  4,  5],\n",
       "       [ 6,  7,  8,  9, 10],\n",
       "       [11, 12, 13, 14, 15],\n",
       "       [16, 17, 18, 19, 20],\n",
       "       [21, 22, 23, 24, 25]])"
      ]
     },
     "execution_count": 7,
     "metadata": {},
     "output_type": "execute_result"
    }
   ],
   "source": [
    "arr.reshape(5,5)"
   ]
  },
  {
   "cell_type": "code",
   "execution_count": 8,
   "id": "6037e375",
   "metadata": {
    "ExecuteTime": {
     "end_time": "2023-07-21T16:51:12.407058Z",
     "start_time": "2023-07-21T16:51:12.395530Z"
    }
   },
   "outputs": [
    {
     "data": {
      "text/plain": [
       "24"
      ]
     },
     "execution_count": 8,
     "metadata": {},
     "output_type": "execute_result"
    }
   ],
   "source": [
    "arr.argmax()"
   ]
  },
  {
   "cell_type": "code",
   "execution_count": 9,
   "id": "e5ef454e",
   "metadata": {
    "ExecuteTime": {
     "end_time": "2023-07-21T16:51:49.675570Z",
     "start_time": "2023-07-21T16:51:49.664555Z"
    }
   },
   "outputs": [
    {
     "data": {
      "text/plain": [
       "7.211102550927978"
      ]
     },
     "execution_count": 9,
     "metadata": {},
     "output_type": "execute_result"
    }
   ],
   "source": [
    "arr.std()"
   ]
  },
  {
   "cell_type": "code",
   "execution_count": 10,
   "id": "4352e37f",
   "metadata": {
    "ExecuteTime": {
     "end_time": "2023-07-21T16:51:55.845502Z",
     "start_time": "2023-07-21T16:51:55.832507Z"
    }
   },
   "outputs": [
    {
     "data": {
      "text/plain": [
       "52.0"
      ]
     },
     "execution_count": 10,
     "metadata": {},
     "output_type": "execute_result"
    }
   ],
   "source": [
    "arr.var()"
   ]
  },
  {
   "cell_type": "code",
   "execution_count": 12,
   "id": "060d323f",
   "metadata": {
    "ExecuteTime": {
     "end_time": "2023-07-21T17:04:39.731544Z",
     "start_time": "2023-07-21T17:04:39.723896Z"
    }
   },
   "outputs": [],
   "source": [
    "arr2 = np.random.rand()"
   ]
  },
  {
   "cell_type": "code",
   "execution_count": 13,
   "id": "b1b3c698",
   "metadata": {
    "ExecuteTime": {
     "end_time": "2023-07-21T17:04:47.708921Z",
     "start_time": "2023-07-21T17:04:47.689072Z"
    }
   },
   "outputs": [
    {
     "data": {
      "text/plain": [
       "0.3338290658825871"
      ]
     },
     "execution_count": 13,
     "metadata": {},
     "output_type": "execute_result"
    }
   ],
   "source": [
    "arr2"
   ]
  },
  {
   "cell_type": "code",
   "execution_count": 27,
   "id": "e3b687ed",
   "metadata": {
    "ExecuteTime": {
     "end_time": "2023-07-21T17:05:07.772940Z",
     "start_time": "2023-07-21T17:05:07.762155Z"
    }
   },
   "outputs": [],
   "source": [
    "arr2 = np.random.rand(16)"
   ]
  },
  {
   "cell_type": "code",
   "execution_count": 28,
   "id": "974bdcc7",
   "metadata": {
    "ExecuteTime": {
     "end_time": "2023-07-21T17:05:12.375852Z",
     "start_time": "2023-07-21T17:05:12.364834Z"
    }
   },
   "outputs": [
    {
     "data": {
      "text/plain": [
       "array([0.90566364, 0.7900631 , 0.85177046, 0.14632642, 0.91641082,\n",
       "       0.54298535, 0.081222  , 0.54462984, 0.00404747, 0.53151736,\n",
       "       0.20148078, 0.83395022, 0.02029174, 0.6750392 , 0.88120481,\n",
       "       0.93616349])"
      ]
     },
     "execution_count": 28,
     "metadata": {},
     "output_type": "execute_result"
    }
   ],
   "source": [
    "arr2"
   ]
  },
  {
   "cell_type": "code",
   "execution_count": 29,
   "id": "58e1ffc8",
   "metadata": {
    "ExecuteTime": {
     "end_time": "2023-07-21T17:06:01.489124Z",
     "start_time": "2023-07-21T17:06:01.481067Z"
    }
   },
   "outputs": [
    {
     "data": {
      "text/plain": [
       "array([[0.90566364, 0.7900631 , 0.85177046, 0.14632642],\n",
       "       [0.91641082, 0.54298535, 0.081222  , 0.54462984],\n",
       "       [0.00404747, 0.53151736, 0.20148078, 0.83395022],\n",
       "       [0.02029174, 0.6750392 , 0.88120481, 0.93616349]])"
      ]
     },
     "execution_count": 29,
     "metadata": {},
     "output_type": "execute_result"
    }
   ],
   "source": [
    "arr2.reshape(4,4)"
   ]
  },
  {
   "cell_type": "code",
   "execution_count": 30,
   "id": "b7a45a43",
   "metadata": {
    "ExecuteTime": {
     "end_time": "2023-07-21T17:07:40.621655Z",
     "start_time": "2023-07-21T17:07:40.610972Z"
    }
   },
   "outputs": [],
   "source": [
    "arr3 = np.random.rand(16)"
   ]
  },
  {
   "cell_type": "code",
   "execution_count": 31,
   "id": "0e92e757",
   "metadata": {
    "ExecuteTime": {
     "end_time": "2023-07-21T17:08:07.317568Z",
     "start_time": "2023-07-21T17:08:07.299504Z"
    }
   },
   "outputs": [],
   "source": [
    "arr2 = arr2.reshape(4,4)\n",
    "arr3 = arr3.reshape(4,4)"
   ]
  },
  {
   "cell_type": "code",
   "execution_count": 19,
   "id": "3a98f481",
   "metadata": {
    "ExecuteTime": {
     "end_time": "2023-07-21T17:08:12.524780Z",
     "start_time": "2023-07-21T17:08:12.513829Z"
    }
   },
   "outputs": [
    {
     "data": {
      "text/plain": [
       "array([[0.50810934, 0.2495567 , 0.33225831, 0.03382557],\n",
       "       [0.43438228, 0.31848086, 0.05050765, 0.99933326],\n",
       "       [0.72575195, 0.48431853, 0.43736646, 0.26857338],\n",
       "       [0.94834853, 0.42633822, 0.41351182, 0.31147072]])"
      ]
     },
     "execution_count": 19,
     "metadata": {},
     "output_type": "execute_result"
    }
   ],
   "source": [
    "arr2\n",
    "arr3"
   ]
  },
  {
   "cell_type": "code",
   "execution_count": 20,
   "id": "76b02bfc",
   "metadata": {
    "ExecuteTime": {
     "end_time": "2023-07-21T17:08:18.912153Z",
     "start_time": "2023-07-21T17:08:18.905800Z"
    }
   },
   "outputs": [
    {
     "data": {
      "text/plain": [
       "array([[0.72403059, 0.09352761, 0.7543773 , 0.90641274],\n",
       "       [0.48857353, 0.82071606, 0.73494101, 0.82819379],\n",
       "       [0.12714392, 0.52579757, 0.1358636 , 0.48744069],\n",
       "       [0.67977704, 0.09512551, 0.70664752, 0.37793009]])"
      ]
     },
     "execution_count": 20,
     "metadata": {},
     "output_type": "execute_result"
    }
   ],
   "source": [
    "arr2"
   ]
  },
  {
   "cell_type": "code",
   "execution_count": 21,
   "id": "651c9d26",
   "metadata": {
    "ExecuteTime": {
     "end_time": "2023-07-21T17:08:27.433913Z",
     "start_time": "2023-07-21T17:08:27.421064Z"
    }
   },
   "outputs": [
    {
     "data": {
      "text/plain": [
       "array([[0.50810934, 0.2495567 , 0.33225831, 0.03382557],\n",
       "       [0.43438228, 0.31848086, 0.05050765, 0.99933326],\n",
       "       [0.72575195, 0.48431853, 0.43736646, 0.26857338],\n",
       "       [0.94834853, 0.42633822, 0.41351182, 0.31147072]])"
      ]
     },
     "execution_count": 21,
     "metadata": {},
     "output_type": "execute_result"
    }
   ],
   "source": [
    "arr3"
   ]
  },
  {
   "cell_type": "code",
   "execution_count": 32,
   "id": "c2583fcb",
   "metadata": {
    "ExecuteTime": {
     "end_time": "2023-07-21T17:09:30.619690Z",
     "start_time": "2023-07-21T17:09:30.615599Z"
    }
   },
   "outputs": [],
   "source": [
    "arr4 = arr2 + arr3"
   ]
  },
  {
   "cell_type": "code",
   "execution_count": 23,
   "id": "2d60beaa",
   "metadata": {
    "ExecuteTime": {
     "end_time": "2023-07-21T17:09:33.199925Z",
     "start_time": "2023-07-21T17:09:33.191897Z"
    }
   },
   "outputs": [
    {
     "data": {
      "text/plain": [
       "array([[1.23213993, 0.34308431, 1.08663561, 0.9402383 ],\n",
       "       [0.92295581, 1.13919693, 0.78544866, 1.82752704],\n",
       "       [0.85289587, 1.01011611, 0.57323006, 0.75601407],\n",
       "       [1.62812558, 0.52146373, 1.12015934, 0.68940081]])"
      ]
     },
     "execution_count": 23,
     "metadata": {},
     "output_type": "execute_result"
    }
   ],
   "source": [
    "arr4"
   ]
  },
  {
   "cell_type": "code",
   "execution_count": 23,
   "id": "664e5017",
   "metadata": {},
   "outputs": [
    {
     "data": {
      "text/plain": [
       "array([  0.        ,   2.04081633,   4.08163265,   6.12244898,\n",
       "         8.16326531,  10.20408163,  12.24489796,  14.28571429,\n",
       "        16.32653061,  18.36734694,  20.40816327,  22.44897959,\n",
       "        24.48979592,  26.53061224,  28.57142857,  30.6122449 ,\n",
       "        32.65306122,  34.69387755,  36.73469388,  38.7755102 ,\n",
       "        40.81632653,  42.85714286,  44.89795918,  46.93877551,\n",
       "        48.97959184,  51.02040816,  53.06122449,  55.10204082,\n",
       "        57.14285714,  59.18367347,  61.2244898 ,  63.26530612,\n",
       "        65.30612245,  67.34693878,  69.3877551 ,  71.42857143,\n",
       "        73.46938776,  75.51020408,  77.55102041,  79.59183673,\n",
       "        81.63265306,  83.67346939,  85.71428571,  87.75510204,\n",
       "        89.79591837,  91.83673469,  93.87755102,  95.91836735,\n",
       "        97.95918367, 100.        ])"
      ]
     },
     "execution_count": 23,
     "metadata": {},
     "output_type": "execute_result"
    }
   ],
   "source": [
    "np.linspace(0,100)"
   ]
  },
  {
   "cell_type": "code",
   "execution_count": 24,
   "id": "f34a1aec",
   "metadata": {},
   "outputs": [
    {
     "data": {
      "text/plain": [
       "array([ 0.        ,  8.33333333, 16.66666667, 25.        ])"
      ]
     },
     "execution_count": 24,
     "metadata": {},
     "output_type": "execute_result"
    }
   ],
   "source": [
    "np.linspace(0,25,4)"
   ]
  },
  {
   "cell_type": "code",
   "execution_count": 33,
   "id": "cac23e91",
   "metadata": {},
   "outputs": [
    {
     "data": {
      "text/plain": [
       "8.862766696037397"
      ]
     },
     "execution_count": 33,
     "metadata": {},
     "output_type": "execute_result"
    }
   ],
   "source": [
    "arr2.sum()"
   ]
  },
  {
   "cell_type": "code",
   "execution_count": 34,
   "id": "372351ca",
   "metadata": {},
   "outputs": [
    {
     "data": {
      "text/plain": [
       "array([[0.90566364, 0.7900631 , 0.85177046, 0.14632642],\n",
       "       [0.91641082, 0.54298535, 0.081222  , 0.54462984],\n",
       "       [0.00404747, 0.53151736, 0.20148078, 0.83395022],\n",
       "       [0.02029174, 0.6750392 , 0.88120481, 0.93616349]])"
      ]
     },
     "execution_count": 34,
     "metadata": {},
     "output_type": "execute_result"
    }
   ],
   "source": [
    "arr2"
   ]
  },
  {
   "cell_type": "code",
   "execution_count": 35,
   "id": "5fa7833b",
   "metadata": {},
   "outputs": [
    {
     "data": {
      "text/plain": [
       "array([1.84641367, 2.539605  , 2.01567805, 2.46106997])"
      ]
     },
     "execution_count": 35,
     "metadata": {},
     "output_type": "execute_result"
    }
   ],
   "source": [
    "arr2.sum(0)"
   ]
  },
  {
   "cell_type": "code",
   "execution_count": 36,
   "id": "789bcd77",
   "metadata": {},
   "outputs": [
    {
     "data": {
      "text/plain": [
       "array([2.69382362, 2.08524801, 1.57099582, 2.51269924])"
      ]
     },
     "execution_count": 36,
     "metadata": {},
     "output_type": "execute_result"
    }
   ],
   "source": [
    "arr2.sum(1)"
   ]
  },
  {
   "cell_type": "code",
   "execution_count": 1,
   "id": "7a95d53d",
   "metadata": {},
   "outputs": [
    {
     "ename": "NameError",
     "evalue": "name 'arr3' is not defined",
     "output_type": "error",
     "traceback": [
      "\u001b[1;31m---------------------------------------------------------------------------\u001b[0m",
      "\u001b[1;31mNameError\u001b[0m                                 Traceback (most recent call last)",
      "Cell \u001b[1;32mIn[1], line 1\u001b[0m\n\u001b[1;32m----> 1\u001b[0m arr3\u001b[39m.\u001b[39mall(\u001b[39m0\u001b[39m)\n",
      "\u001b[1;31mNameError\u001b[0m: name 'arr3' is not defined"
     ]
    }
   ],
   "source": [
    "arr3.all(0)"
   ]
  },
  {
   "cell_type": "code",
   "execution_count": 1,
   "id": "0ef13769",
   "metadata": {},
   "outputs": [
    {
     "ename": "NameError",
     "evalue": "name 'np' is not defined",
     "output_type": "error",
     "traceback": [
      "\u001b[1;31m---------------------------------------------------------------------------\u001b[0m",
      "\u001b[1;31mNameError\u001b[0m                                 Traceback (most recent call last)",
      "Cell \u001b[1;32mIn[1], line 1\u001b[0m\n\u001b[1;32m----> 1\u001b[0m arr2 \u001b[39m=\u001b[39m np\u001b[39m.\u001b[39mrandom\u001b[39m.\u001b[39mrandint(\u001b[39m0\u001b[39m,\u001b[39m20\u001b[39m)\u001b[39m.\u001b[39mreshape(\u001b[39m4\u001b[39m,\u001b[39m5\u001b[39m)\n",
      "\u001b[1;31mNameError\u001b[0m: name 'np' is not defined"
     ]
    }
   ],
   "source": [
    "arr2 = np.random.randint(0,20).reshape(4,5)"
   ]
  },
  {
   "cell_type": "code",
   "execution_count": 2,
   "id": "1bd40ffb",
   "metadata": {},
   "outputs": [],
   "source": [
    "import numpy as np"
   ]
  },
  {
   "cell_type": "code",
   "execution_count": 3,
   "id": "4d5e6a34",
   "metadata": {},
   "outputs": [],
   "source": [
    "arr2 = np.random.randint(0,20,(5,5))"
   ]
  },
  {
   "cell_type": "code",
   "execution_count": 4,
   "id": "2c6eb7c4",
   "metadata": {},
   "outputs": [
    {
     "data": {
      "text/plain": [
       "array([[19,  1, 15,  7, 17],\n",
       "       [17, 13, 18, 15, 18],\n",
       "       [18, 18,  7, 16, 16],\n",
       "       [ 8, 17,  4,  6, 14],\n",
       "       [ 2, 10, 13,  8,  5]])"
      ]
     },
     "execution_count": 4,
     "metadata": {},
     "output_type": "execute_result"
    }
   ],
   "source": [
    "arr2"
   ]
  },
  {
   "cell_type": "code",
   "execution_count": 5,
   "id": "3fc58a33",
   "metadata": {},
   "outputs": [
    {
     "data": {
      "text/plain": [
       "5.585123096226259"
      ]
     },
     "execution_count": 5,
     "metadata": {},
     "output_type": "execute_result"
    }
   ],
   "source": [
    "arr2.std()"
   ]
  },
  {
   "cell_type": "code",
   "execution_count": 6,
   "id": "63677432",
   "metadata": {},
   "outputs": [
    {
     "data": {
      "text/plain": [
       "31.1936"
      ]
     },
     "execution_count": 6,
     "metadata": {},
     "output_type": "execute_result"
    }
   ],
   "source": [
    "arr2.var()"
   ]
  },
  {
   "cell_type": "code",
   "execution_count": 7,
   "id": "4da18da2",
   "metadata": {},
   "outputs": [
    {
     "data": {
      "text/plain": [
       "array([[19,  1, 15,  7, 17],\n",
       "       [17, 13, 18, 15, 18],\n",
       "       [18, 18,  7, 16, 16],\n",
       "       [ 8, 17,  4,  6, 14],\n",
       "       [ 2, 10, 13,  8,  5]])"
      ]
     },
     "execution_count": 7,
     "metadata": {},
     "output_type": "execute_result"
    }
   ],
   "source": [
    "arr2"
   ]
  },
  {
   "cell_type": "code",
   "execution_count": null,
   "id": "f8e2ed9c",
   "metadata": {},
   "outputs": [],
   "source": []
  }
 ],
 "metadata": {
  "kernelspec": {
   "display_name": "Python 3 (ipykernel)",
   "language": "python",
   "name": "python3"
  },
  "language_info": {
   "codemirror_mode": {
    "name": "ipython",
    "version": 3
   },
   "file_extension": ".py",
   "mimetype": "text/x-python",
   "name": "python",
   "nbconvert_exporter": "python",
   "pygments_lexer": "ipython3",
   "version": "3.10.8"
  }
 },
 "nbformat": 4,
 "nbformat_minor": 5
}
